{
 "cells": [
  {
   "cell_type": "markdown",
   "id": "aedd46dc",
   "metadata": {},
   "source": [
    "# Predicting Hotel Booking Cancellation with Random Forest\n",
    "\n",
    "\n",
    "![](asset/hotel.png)\n",
    "\n",
    "## Library and Setup"
   ]
  },
  {
   "cell_type": "code",
   "execution_count": 1,
   "id": "c3d45760",
   "metadata": {},
   "outputs": [],
   "source": [
    "%config Completer.use_jedi = False"
   ]
  },
  {
   "cell_type": "code",
   "execution_count": 2,
   "id": "8bc823ba",
   "metadata": {},
   "outputs": [],
   "source": [
    "# Data Wrangling\n",
    "import pandas as pd\n",
    "import numpy as np\n",
    "\n",
    "# Model Evaluation\n",
    "from sklearn.model_selection import train_test_split\n",
    "from sklearn.metrics import accuracy_score\n",
    "from sklearn.metrics import precision_score\n",
    "from sklearn.metrics import recall_score\n",
    "from sklearn.metrics import f1_score\n",
    "\n",
    "# Data Preprocessing\n",
    "from sklearn.preprocessing import LabelEncoder\n",
    "from sklearn.preprocessing import OneHotEncoder\n",
    "\n",
    "# Machine Learning\n",
    "from sklearn.tree import DecisionTreeClassifier\n",
    "from sklearn.ensemble import RandomForestClassifier\n",
    "from sklearn.model_selection import GridSearchCV\n",
    "\n",
    "# Data Visualization\n",
    "import matplotlib\n",
    "import matplotlib.pyplot as plt\n",
    "import seaborn as sns\n",
    "\n",
    "%matplotlib inline"
   ]
  },
  {
   "cell_type": "markdown",
   "id": "04c74bb3",
   "metadata": {},
   "source": [
    "## Data\n",
    "\n",
    "The data come from [Antonio et. al (2019)](https://www.sciencedirect.com/science/article/pii/S2352340918315191). Due to privacy concern, the data has been anonymized after being extracted from the hotels PMS (Payment Management Services) databases. Both hotels are located in Portugal: resort hotel (H1) at the resort region of Algarve and city hotel (H2) at the city of Lisbon. Both datasets comprehend bookings due to arrive between the 1st of July of 2015 and the 31st of August 2017, including bookings that effectively arrived and bookings that were canceled.\n",
    "\n",
    "![](asset/hotel_grid.png)\n",
    "\n",
    "The following is the description of each column:\n",
    "\n",
    "1. `isCanceled`: Categorical Value indicating if the booking was **canceled (1)** or **not (0)**\n",
    "2. `LeadTime`: Number of days that elapsed between the entering date of the booking into the PMS and the arrival date\n",
    "3. `ArrivaleDateYear`: Year of arrival date\n",
    "4. `ArrivalDateMonth`: Month of arrival date\n",
    "5. `ArrivalDateWeekNumber`: Week of the month of arrival date\n",
    "6. `ArrivalDateDayOfMonth`: Date or day of month of arrival date\n",
    "7. `StaysInWeekendNights`: Number of weekend nights (Saturday or Sunday) the guest stayed or booked to stay at the hotel\n",
    "8. `StaysInWeekNights`: Number of week nights (Monday to Friday) the guest stayed or booked to stay at the hotel\n",
    "9. `Adults`: Number of adults\n",
    "10. `Children`: Number of children\n",
    "11. `Babies`: Number of babies\n",
    "12. `Meal`: Type of meal booked. Categories are presented in standard hospitality meal packages:\n",
    "    * Undefined/SC – no meal package\n",
    "    * BB – Bed & Breakfast\n",
    "    * HB – Half board (breakfast and one other meal – usually dinner)\n",
    "    * FB – Full board (breakfast, lunch and dinner)\n",
    "13. `Country`: Country of origin. Categories are represented in the ISO 3155–3:2013 format\n",
    "14. `MarketSegment`: Market segment designation. \n",
    "    * TA: Travel Agents\n",
    "    * TO: Tour Operators\n",
    "15. `DistributionChannel`:  Booking distribution channel. \n",
    "    * TA: Travel Agents\n",
    "    * TO: Tour Operators\n",
    "16. `IsRepeatedGuest`: Value indicating if the booking name was from a repeated guest (1) or not (0)\n",
    "17. `PreviousCancellations`: Number of previous bookings that were cancelled by the customer prior to the current booking\n",
    "18. `PreviousBookingsNotCanceled`:  Number of previous bookings not cancelled by the customer prior to the current booking\n",
    "19. `ReservedRoomType`: Code of room type reserved. Code is presented instead of designation for anonymity reasons\n",
    "20. `AssignedRoomType`: Code for the type of room assigned to the booking. Sometimes the assigned room type differs from the reserved room type due to hotel operation reasons (e.g. overbooking) or by customer request. Code is presented instead of designation for anonymity reasons\n",
    "21. `BookingChanges`:  Number of changes/amendments made to the booking from the moment the booking was entered on the PMS until the moment of check-in or cancellation\n",
    "22. `DepositType`: Indication on if the customer made a deposit to guarantee the booking. This variable can assume three categories:\n",
    "    * No Deposit: no deposit was made\n",
    "    * Non Refund: a deposit was made in the value of the total stay cost\n",
    "    * Refundable: a deposit was made with a value under the total cost of stay\n",
    "23. `Agent`:  ID of the travel agency that made the booking\n",
    "24. `Company`: ID of the company/entity that made the booking or responsible for paying the booking. ID is presented instead of designation for anonymity reasons\n",
    "25. `DaysInWaitingList`:  Number of days the booking was in the waiting list before it was confirmed to the customer\n",
    "26. `CustomerType`: Type of booking, assuming one of four categories:\n",
    "    * Contract: when the booking has an allotment or other type of contract associated to it\n",
    "    * Group: when the booking is associated to a group\n",
    "    * Transient: when the booking is not part of a group or contract, and is not associated to other transient booking;\n",
    "    * Transient-party: when the booking is transient, but is associated to at least other transient booking\n",
    "27. `ADR`: Average Daily Rate, calculated by dividing the sum of all lodging transactions by the total number of staying nights\n",
    "28. `RequiredCarParkingSpaces`: Number of car parking spaces required by the customer\n",
    "29. `TotalOfSpecialRequests`: Number of special requests made by the customer (e.g. twin bed or high floor)\n",
    "30. `ReservationStatus`: Reservation last status, assuming one of three categories:\n",
    "    * Canceled: booking was canceled by the customer\n",
    "    * Check-Out: customer has checked in but already departed\n",
    "    * No-Show: customer did not check-in and did inform the hotel of the reason why\n",
    "31. `ReservationStatusDate`:  Date at which the last status was set. This variable can be used in conjunction with the ReservationStatus to understand when was the booking canceled or when did the customer checked-out of the hotel\n",
    "\n",
    "### Resort Hotel\n",
    "\n",
    "Let's read the data from the resort hotel."
   ]
  },
  {
   "cell_type": "code",
   "execution_count": 3,
   "id": "07b5018b",
   "metadata": {},
   "outputs": [
    {
     "data": {
      "text/html": [
       "<div>\n",
       "<style scoped>\n",
       "    .dataframe tbody tr th:only-of-type {\n",
       "        vertical-align: middle;\n",
       "    }\n",
       "\n",
       "    .dataframe tbody tr th {\n",
       "        vertical-align: top;\n",
       "    }\n",
       "\n",
       "    .dataframe thead th {\n",
       "        text-align: right;\n",
       "    }\n",
       "</style>\n",
       "<table border=\"1\" class=\"dataframe\">\n",
       "  <thead>\n",
       "    <tr style=\"text-align: right;\">\n",
       "      <th></th>\n",
       "      <th>IsCanceled</th>\n",
       "      <th>LeadTime</th>\n",
       "      <th>ArrivalDateYear</th>\n",
       "      <th>ArrivalDateMonth</th>\n",
       "      <th>ArrivalDateWeekNumber</th>\n",
       "      <th>ArrivalDateDayOfMonth</th>\n",
       "      <th>StaysInWeekendNights</th>\n",
       "      <th>StaysInWeekNights</th>\n",
       "      <th>Adults</th>\n",
       "      <th>Children</th>\n",
       "      <th>...</th>\n",
       "      <th>DepositType</th>\n",
       "      <th>Agent</th>\n",
       "      <th>Company</th>\n",
       "      <th>DaysInWaitingList</th>\n",
       "      <th>CustomerType</th>\n",
       "      <th>ADR</th>\n",
       "      <th>RequiredCarParkingSpaces</th>\n",
       "      <th>TotalOfSpecialRequests</th>\n",
       "      <th>ReservationStatus</th>\n",
       "      <th>ReservationStatusDate</th>\n",
       "    </tr>\n",
       "  </thead>\n",
       "  <tbody>\n",
       "    <tr>\n",
       "      <th>0</th>\n",
       "      <td>0</td>\n",
       "      <td>342</td>\n",
       "      <td>2015</td>\n",
       "      <td>July</td>\n",
       "      <td>27</td>\n",
       "      <td>1</td>\n",
       "      <td>0</td>\n",
       "      <td>0</td>\n",
       "      <td>2</td>\n",
       "      <td>0</td>\n",
       "      <td>...</td>\n",
       "      <td>No Deposit</td>\n",
       "      <td>NaN</td>\n",
       "      <td>NaN</td>\n",
       "      <td>0</td>\n",
       "      <td>Transient</td>\n",
       "      <td>0.0</td>\n",
       "      <td>0</td>\n",
       "      <td>0</td>\n",
       "      <td>Check-Out</td>\n",
       "      <td>2015-07-01</td>\n",
       "    </tr>\n",
       "    <tr>\n",
       "      <th>1</th>\n",
       "      <td>0</td>\n",
       "      <td>737</td>\n",
       "      <td>2015</td>\n",
       "      <td>July</td>\n",
       "      <td>27</td>\n",
       "      <td>1</td>\n",
       "      <td>0</td>\n",
       "      <td>0</td>\n",
       "      <td>2</td>\n",
       "      <td>0</td>\n",
       "      <td>...</td>\n",
       "      <td>No Deposit</td>\n",
       "      <td>NaN</td>\n",
       "      <td>NaN</td>\n",
       "      <td>0</td>\n",
       "      <td>Transient</td>\n",
       "      <td>0.0</td>\n",
       "      <td>0</td>\n",
       "      <td>0</td>\n",
       "      <td>Check-Out</td>\n",
       "      <td>2015-07-01</td>\n",
       "    </tr>\n",
       "    <tr>\n",
       "      <th>2</th>\n",
       "      <td>0</td>\n",
       "      <td>7</td>\n",
       "      <td>2015</td>\n",
       "      <td>July</td>\n",
       "      <td>27</td>\n",
       "      <td>1</td>\n",
       "      <td>0</td>\n",
       "      <td>1</td>\n",
       "      <td>1</td>\n",
       "      <td>0</td>\n",
       "      <td>...</td>\n",
       "      <td>No Deposit</td>\n",
       "      <td>NaN</td>\n",
       "      <td>NaN</td>\n",
       "      <td>0</td>\n",
       "      <td>Transient</td>\n",
       "      <td>75.0</td>\n",
       "      <td>0</td>\n",
       "      <td>0</td>\n",
       "      <td>Check-Out</td>\n",
       "      <td>2015-07-02</td>\n",
       "    </tr>\n",
       "    <tr>\n",
       "      <th>3</th>\n",
       "      <td>0</td>\n",
       "      <td>13</td>\n",
       "      <td>2015</td>\n",
       "      <td>July</td>\n",
       "      <td>27</td>\n",
       "      <td>1</td>\n",
       "      <td>0</td>\n",
       "      <td>1</td>\n",
       "      <td>1</td>\n",
       "      <td>0</td>\n",
       "      <td>...</td>\n",
       "      <td>No Deposit</td>\n",
       "      <td>304.0</td>\n",
       "      <td>NaN</td>\n",
       "      <td>0</td>\n",
       "      <td>Transient</td>\n",
       "      <td>75.0</td>\n",
       "      <td>0</td>\n",
       "      <td>0</td>\n",
       "      <td>Check-Out</td>\n",
       "      <td>2015-07-02</td>\n",
       "    </tr>\n",
       "    <tr>\n",
       "      <th>4</th>\n",
       "      <td>0</td>\n",
       "      <td>14</td>\n",
       "      <td>2015</td>\n",
       "      <td>July</td>\n",
       "      <td>27</td>\n",
       "      <td>1</td>\n",
       "      <td>0</td>\n",
       "      <td>2</td>\n",
       "      <td>2</td>\n",
       "      <td>0</td>\n",
       "      <td>...</td>\n",
       "      <td>No Deposit</td>\n",
       "      <td>240.0</td>\n",
       "      <td>NaN</td>\n",
       "      <td>0</td>\n",
       "      <td>Transient</td>\n",
       "      <td>98.0</td>\n",
       "      <td>0</td>\n",
       "      <td>1</td>\n",
       "      <td>Check-Out</td>\n",
       "      <td>2015-07-03</td>\n",
       "    </tr>\n",
       "  </tbody>\n",
       "</table>\n",
       "<p>5 rows × 31 columns</p>\n",
       "</div>"
      ],
      "text/plain": [
       "   IsCanceled  LeadTime  ArrivalDateYear ArrivalDateMonth  \\\n",
       "0           0       342             2015             July   \n",
       "1           0       737             2015             July   \n",
       "2           0         7             2015             July   \n",
       "3           0        13             2015             July   \n",
       "4           0        14             2015             July   \n",
       "\n",
       "   ArrivalDateWeekNumber  ArrivalDateDayOfMonth  StaysInWeekendNights  \\\n",
       "0                     27                      1                     0   \n",
       "1                     27                      1                     0   \n",
       "2                     27                      1                     0   \n",
       "3                     27                      1                     0   \n",
       "4                     27                      1                     0   \n",
       "\n",
       "   StaysInWeekNights  Adults  Children  ...      DepositType  Agent Company  \\\n",
       "0                  0       2         0  ...  No Deposit         NaN     NaN   \n",
       "1                  0       2         0  ...  No Deposit         NaN     NaN   \n",
       "2                  1       1         0  ...  No Deposit         NaN     NaN   \n",
       "3                  1       1         0  ...  No Deposit       304.0     NaN   \n",
       "4                  2       2         0  ...  No Deposit       240.0     NaN   \n",
       "\n",
       "  DaysInWaitingList CustomerType   ADR  RequiredCarParkingSpaces  \\\n",
       "0                 0    Transient   0.0                         0   \n",
       "1                 0    Transient   0.0                         0   \n",
       "2                 0    Transient  75.0                         0   \n",
       "3                 0    Transient  75.0                         0   \n",
       "4                 0    Transient  98.0                         0   \n",
       "\n",
       "   TotalOfSpecialRequests ReservationStatus ReservationStatusDate  \n",
       "0                       0         Check-Out            2015-07-01  \n",
       "1                       0         Check-Out            2015-07-01  \n",
       "2                       0         Check-Out            2015-07-02  \n",
       "3                       0         Check-Out            2015-07-02  \n",
       "4                       1         Check-Out            2015-07-03  \n",
       "\n",
       "[5 rows x 31 columns]"
      ]
     },
     "execution_count": 3,
     "metadata": {},
     "output_type": "execute_result"
    }
   ],
   "source": [
    "resort_hotel = pd.read_csv('data/H1.csv', skipinitialspace = True)\n",
    "\n",
    "resort_hotel.head()"
   ]
  },
  {
   "cell_type": "markdown",
   "id": "20321df3",
   "metadata": {},
   "source": [
    "Let's check the detail of the number of rows and columns of the dataset."
   ]
  },
  {
   "cell_type": "code",
   "execution_count": 4,
   "id": "c99376de",
   "metadata": {},
   "outputs": [
    {
     "data": {
      "text/plain": [
       "(40060, 31)"
      ]
     },
     "execution_count": 4,
     "metadata": {},
     "output_type": "execute_result"
    }
   ],
   "source": [
    "resort_hotel.shape"
   ]
  },
  {
   "cell_type": "markdown",
   "id": "94158bbf",
   "metadata": {},
   "source": [
    "The dataset from the resort hotel contain more than 40,000 transactions with 31 columns. Let's check if there is any duplicated data."
   ]
  },
  {
   "cell_type": "code",
   "execution_count": 5,
   "id": "2358b609",
   "metadata": {},
   "outputs": [
    {
     "name": "stdout",
     "output_type": "stream",
     "text": [
      "Number of duplicated rows: 6,092\n"
     ]
    }
   ],
   "source": [
    "print(\"Number of duplicated rows: {:,}\".format(resort_hotel[ resort_hotel.duplicated()].shape[0]))"
   ]
  },
  {
   "cell_type": "markdown",
   "id": "020e5267",
   "metadata": {},
   "source": [
    "Turns out there are around 6,000 data that is detected as a duplicate. There are no notes regarding duplicated data from the data source, so we will remove them right away because they don't contain new information."
   ]
  },
  {
   "cell_type": "code",
   "execution_count": 6,
   "id": "6d86095c",
   "metadata": {},
   "outputs": [
    {
     "name": "stdout",
     "output_type": "stream",
     "text": [
      "Number of remaining data: 33,968\n"
     ]
    }
   ],
   "source": [
    "# Remove duplicate rows\n",
    "resort_hotel = resort_hotel[ resort_hotel.duplicated() == False]\n",
    "\n",
    "# Check remaining data\n",
    "print(\"Number of remaining data: {:,}\".format(resort_hotel.shape[0]))"
   ]
  },
  {
   "cell_type": "markdown",
   "id": "e8632226",
   "metadata": {},
   "source": [
    "### City Hotel\n",
    "\n",
    "Let's continue reading the data from city hotel."
   ]
  },
  {
   "cell_type": "code",
   "execution_count": 7,
   "id": "931fbf5f",
   "metadata": {},
   "outputs": [
    {
     "data": {
      "text/html": [
       "<div>\n",
       "<style scoped>\n",
       "    .dataframe tbody tr th:only-of-type {\n",
       "        vertical-align: middle;\n",
       "    }\n",
       "\n",
       "    .dataframe tbody tr th {\n",
       "        vertical-align: top;\n",
       "    }\n",
       "\n",
       "    .dataframe thead th {\n",
       "        text-align: right;\n",
       "    }\n",
       "</style>\n",
       "<table border=\"1\" class=\"dataframe\">\n",
       "  <thead>\n",
       "    <tr style=\"text-align: right;\">\n",
       "      <th></th>\n",
       "      <th>IsCanceled</th>\n",
       "      <th>LeadTime</th>\n",
       "      <th>ArrivalDateYear</th>\n",
       "      <th>ArrivalDateMonth</th>\n",
       "      <th>ArrivalDateWeekNumber</th>\n",
       "      <th>ArrivalDateDayOfMonth</th>\n",
       "      <th>StaysInWeekendNights</th>\n",
       "      <th>StaysInWeekNights</th>\n",
       "      <th>Adults</th>\n",
       "      <th>Children</th>\n",
       "      <th>...</th>\n",
       "      <th>DepositType</th>\n",
       "      <th>Agent</th>\n",
       "      <th>Company</th>\n",
       "      <th>DaysInWaitingList</th>\n",
       "      <th>CustomerType</th>\n",
       "      <th>ADR</th>\n",
       "      <th>RequiredCarParkingSpaces</th>\n",
       "      <th>TotalOfSpecialRequests</th>\n",
       "      <th>ReservationStatus</th>\n",
       "      <th>ReservationStatusDate</th>\n",
       "    </tr>\n",
       "  </thead>\n",
       "  <tbody>\n",
       "    <tr>\n",
       "      <th>0</th>\n",
       "      <td>0</td>\n",
       "      <td>6</td>\n",
       "      <td>2015</td>\n",
       "      <td>July</td>\n",
       "      <td>27</td>\n",
       "      <td>1</td>\n",
       "      <td>0</td>\n",
       "      <td>2</td>\n",
       "      <td>1</td>\n",
       "      <td>0.0</td>\n",
       "      <td>...</td>\n",
       "      <td>No Deposit</td>\n",
       "      <td>6.0</td>\n",
       "      <td>NaN</td>\n",
       "      <td>0</td>\n",
       "      <td>Transient</td>\n",
       "      <td>0.0</td>\n",
       "      <td>0</td>\n",
       "      <td>0</td>\n",
       "      <td>Check-Out</td>\n",
       "      <td>2015-07-03</td>\n",
       "    </tr>\n",
       "    <tr>\n",
       "      <th>1</th>\n",
       "      <td>1</td>\n",
       "      <td>88</td>\n",
       "      <td>2015</td>\n",
       "      <td>July</td>\n",
       "      <td>27</td>\n",
       "      <td>1</td>\n",
       "      <td>0</td>\n",
       "      <td>4</td>\n",
       "      <td>2</td>\n",
       "      <td>0.0</td>\n",
       "      <td>...</td>\n",
       "      <td>No Deposit</td>\n",
       "      <td>9.0</td>\n",
       "      <td>NaN</td>\n",
       "      <td>0</td>\n",
       "      <td>Transient</td>\n",
       "      <td>76.5</td>\n",
       "      <td>0</td>\n",
       "      <td>1</td>\n",
       "      <td>Canceled</td>\n",
       "      <td>2015-07-01</td>\n",
       "    </tr>\n",
       "    <tr>\n",
       "      <th>2</th>\n",
       "      <td>1</td>\n",
       "      <td>65</td>\n",
       "      <td>2015</td>\n",
       "      <td>July</td>\n",
       "      <td>27</td>\n",
       "      <td>1</td>\n",
       "      <td>0</td>\n",
       "      <td>4</td>\n",
       "      <td>1</td>\n",
       "      <td>0.0</td>\n",
       "      <td>...</td>\n",
       "      <td>No Deposit</td>\n",
       "      <td>9.0</td>\n",
       "      <td>NaN</td>\n",
       "      <td>0</td>\n",
       "      <td>Transient</td>\n",
       "      <td>68.0</td>\n",
       "      <td>0</td>\n",
       "      <td>1</td>\n",
       "      <td>Canceled</td>\n",
       "      <td>2015-04-30</td>\n",
       "    </tr>\n",
       "    <tr>\n",
       "      <th>3</th>\n",
       "      <td>1</td>\n",
       "      <td>92</td>\n",
       "      <td>2015</td>\n",
       "      <td>July</td>\n",
       "      <td>27</td>\n",
       "      <td>1</td>\n",
       "      <td>2</td>\n",
       "      <td>4</td>\n",
       "      <td>2</td>\n",
       "      <td>0.0</td>\n",
       "      <td>...</td>\n",
       "      <td>No Deposit</td>\n",
       "      <td>9.0</td>\n",
       "      <td>NaN</td>\n",
       "      <td>0</td>\n",
       "      <td>Transient</td>\n",
       "      <td>76.5</td>\n",
       "      <td>0</td>\n",
       "      <td>2</td>\n",
       "      <td>Canceled</td>\n",
       "      <td>2015-06-23</td>\n",
       "    </tr>\n",
       "    <tr>\n",
       "      <th>4</th>\n",
       "      <td>1</td>\n",
       "      <td>100</td>\n",
       "      <td>2015</td>\n",
       "      <td>July</td>\n",
       "      <td>27</td>\n",
       "      <td>2</td>\n",
       "      <td>0</td>\n",
       "      <td>2</td>\n",
       "      <td>2</td>\n",
       "      <td>0.0</td>\n",
       "      <td>...</td>\n",
       "      <td>No Deposit</td>\n",
       "      <td>9.0</td>\n",
       "      <td>NaN</td>\n",
       "      <td>0</td>\n",
       "      <td>Transient</td>\n",
       "      <td>76.5</td>\n",
       "      <td>0</td>\n",
       "      <td>1</td>\n",
       "      <td>Canceled</td>\n",
       "      <td>2015-04-02</td>\n",
       "    </tr>\n",
       "  </tbody>\n",
       "</table>\n",
       "<p>5 rows × 31 columns</p>\n",
       "</div>"
      ],
      "text/plain": [
       "   IsCanceled  LeadTime  ArrivalDateYear ArrivalDateMonth  \\\n",
       "0           0         6             2015             July   \n",
       "1           1        88             2015             July   \n",
       "2           1        65             2015             July   \n",
       "3           1        92             2015             July   \n",
       "4           1       100             2015             July   \n",
       "\n",
       "   ArrivalDateWeekNumber  ArrivalDateDayOfMonth  StaysInWeekendNights  \\\n",
       "0                     27                      1                     0   \n",
       "1                     27                      1                     0   \n",
       "2                     27                      1                     0   \n",
       "3                     27                      1                     2   \n",
       "4                     27                      2                     0   \n",
       "\n",
       "   StaysInWeekNights  Adults  Children  ...      DepositType Agent Company  \\\n",
       "0                  2       1       0.0  ...  No Deposit        6.0     NaN   \n",
       "1                  4       2       0.0  ...  No Deposit        9.0     NaN   \n",
       "2                  4       1       0.0  ...  No Deposit        9.0     NaN   \n",
       "3                  4       2       0.0  ...  No Deposit        9.0     NaN   \n",
       "4                  2       2       0.0  ...  No Deposit        9.0     NaN   \n",
       "\n",
       "  DaysInWaitingList CustomerType   ADR  RequiredCarParkingSpaces  \\\n",
       "0                 0    Transient   0.0                         0   \n",
       "1                 0    Transient  76.5                         0   \n",
       "2                 0    Transient  68.0                         0   \n",
       "3                 0    Transient  76.5                         0   \n",
       "4                 0    Transient  76.5                         0   \n",
       "\n",
       "   TotalOfSpecialRequests ReservationStatus ReservationStatusDate  \n",
       "0                       0         Check-Out            2015-07-03  \n",
       "1                       1          Canceled            2015-07-01  \n",
       "2                       1          Canceled            2015-04-30  \n",
       "3                       2          Canceled            2015-06-23  \n",
       "4                       1          Canceled            2015-04-02  \n",
       "\n",
       "[5 rows x 31 columns]"
      ]
     },
     "execution_count": 7,
     "metadata": {},
     "output_type": "execute_result"
    }
   ],
   "source": [
    "city_hotel = pd.read_csv('data/H2.csv', skipinitialspace = True)\n",
    "\n",
    "city_hotel.head()"
   ]
  },
  {
   "cell_type": "markdown",
   "id": "657e5a0b",
   "metadata": {},
   "source": [
    "Let's check the detail of the number of rows and columns of the dataset."
   ]
  },
  {
   "cell_type": "code",
   "execution_count": 8,
   "id": "2aa70f78",
   "metadata": {},
   "outputs": [
    {
     "data": {
      "text/plain": [
       "(79330, 31)"
      ]
     },
     "execution_count": 8,
     "metadata": {},
     "output_type": "execute_result"
    }
   ],
   "source": [
    "city_hotel.shape"
   ]
  },
  {
   "cell_type": "markdown",
   "id": "2a7e885b",
   "metadata": {},
   "source": [
    "The dataset from the city hotel contain more data, with around 79,000 transactions and 31 columns. Let's check if there is any duplicated data."
   ]
  },
  {
   "cell_type": "code",
   "execution_count": 9,
   "id": "927af71b",
   "metadata": {},
   "outputs": [
    {
     "name": "stdout",
     "output_type": "stream",
     "text": [
      "Number of duplicated rows: 25,902\n"
     ]
    }
   ],
   "source": [
    "print(\"Number of duplicated rows: {:,}\".format(city_hotel[ city_hotel.duplicated()].shape[0]))"
   ]
  },
  {
   "cell_type": "markdown",
   "id": "15dc1ff4",
   "metadata": {},
   "source": [
    "The number of duplicated data is even bigger here. We will remove them right away."
   ]
  },
  {
   "cell_type": "code",
   "execution_count": 10,
   "id": "faafb5ca",
   "metadata": {},
   "outputs": [
    {
     "name": "stdout",
     "output_type": "stream",
     "text": [
      "Number of remaining data: 53,428\n"
     ]
    }
   ],
   "source": [
    "# Remove duplicate rows\n",
    "city_hotel = city_hotel[ city_hotel.duplicated() == False]\n",
    "\n",
    "# Check remaining data\n",
    "print(\"Number of remaining data: {:,}\".format(city_hotel.shape[0]))"
   ]
  },
  {
   "cell_type": "markdown",
   "id": "397892d7",
   "metadata": {},
   "source": [
    "## Data Preprocessing\n",
    "\n",
    "Instead of building model for each model, we will create a machine learnign for both hotels. Therefore, the first thing that we will do is combine both dataset into a single dataset. To help identify the type of the hotel of each observation, we will add column `type` that can be either a city hotel or a resort hotel based on the source of the dataset."
   ]
  },
  {
   "cell_type": "code",
   "execution_count": 11,
   "id": "6fd5894c",
   "metadata": {},
   "outputs": [
    {
     "name": "stdout",
     "output_type": "stream",
     "text": [
      "Number of data: 87,396\n"
     ]
    }
   ],
   "source": [
    "# Create column type\n",
    "city_hotel['type'] = 'city hotel'\n",
    "resort_hotel['type'] = 'resort hotel'\n",
    "\n",
    "# Combine data\n",
    "df_hotel = pd.concat([city_hotel, resort_hotel])\n",
    "\n",
    "# Check number of data\n",
    "print(\"Number of data: {:,}\".format(df_hotel.shape[0]))"
   ]
  },
  {
   "cell_type": "markdown",
   "id": "103260c9",
   "metadata": {},
   "source": [
    "Let's check the sample of the data."
   ]
  },
  {
   "cell_type": "code",
   "execution_count": 12,
   "id": "92798aef",
   "metadata": {},
   "outputs": [
    {
     "data": {
      "text/html": [
       "<div>\n",
       "<style scoped>\n",
       "    .dataframe tbody tr th:only-of-type {\n",
       "        vertical-align: middle;\n",
       "    }\n",
       "\n",
       "    .dataframe tbody tr th {\n",
       "        vertical-align: top;\n",
       "    }\n",
       "\n",
       "    .dataframe thead th {\n",
       "        text-align: right;\n",
       "    }\n",
       "</style>\n",
       "<table border=\"1\" class=\"dataframe\">\n",
       "  <thead>\n",
       "    <tr style=\"text-align: right;\">\n",
       "      <th></th>\n",
       "      <th>IsCanceled</th>\n",
       "      <th>LeadTime</th>\n",
       "      <th>ArrivalDateYear</th>\n",
       "      <th>ArrivalDateMonth</th>\n",
       "      <th>ArrivalDateWeekNumber</th>\n",
       "      <th>ArrivalDateDayOfMonth</th>\n",
       "      <th>StaysInWeekendNights</th>\n",
       "      <th>StaysInWeekNights</th>\n",
       "      <th>Adults</th>\n",
       "      <th>Children</th>\n",
       "      <th>...</th>\n",
       "      <th>Agent</th>\n",
       "      <th>Company</th>\n",
       "      <th>DaysInWaitingList</th>\n",
       "      <th>CustomerType</th>\n",
       "      <th>ADR</th>\n",
       "      <th>RequiredCarParkingSpaces</th>\n",
       "      <th>TotalOfSpecialRequests</th>\n",
       "      <th>ReservationStatus</th>\n",
       "      <th>ReservationStatusDate</th>\n",
       "      <th>type</th>\n",
       "    </tr>\n",
       "  </thead>\n",
       "  <tbody>\n",
       "    <tr>\n",
       "      <th>0</th>\n",
       "      <td>0</td>\n",
       "      <td>6</td>\n",
       "      <td>2015</td>\n",
       "      <td>July</td>\n",
       "      <td>27</td>\n",
       "      <td>1</td>\n",
       "      <td>0</td>\n",
       "      <td>2</td>\n",
       "      <td>1</td>\n",
       "      <td>0.0</td>\n",
       "      <td>...</td>\n",
       "      <td>6.0</td>\n",
       "      <td>NaN</td>\n",
       "      <td>0</td>\n",
       "      <td>Transient</td>\n",
       "      <td>0.0</td>\n",
       "      <td>0</td>\n",
       "      <td>0</td>\n",
       "      <td>Check-Out</td>\n",
       "      <td>2015-07-03</td>\n",
       "      <td>city hotel</td>\n",
       "    </tr>\n",
       "    <tr>\n",
       "      <th>1</th>\n",
       "      <td>1</td>\n",
       "      <td>88</td>\n",
       "      <td>2015</td>\n",
       "      <td>July</td>\n",
       "      <td>27</td>\n",
       "      <td>1</td>\n",
       "      <td>0</td>\n",
       "      <td>4</td>\n",
       "      <td>2</td>\n",
       "      <td>0.0</td>\n",
       "      <td>...</td>\n",
       "      <td>9.0</td>\n",
       "      <td>NaN</td>\n",
       "      <td>0</td>\n",
       "      <td>Transient</td>\n",
       "      <td>76.5</td>\n",
       "      <td>0</td>\n",
       "      <td>1</td>\n",
       "      <td>Canceled</td>\n",
       "      <td>2015-07-01</td>\n",
       "      <td>city hotel</td>\n",
       "    </tr>\n",
       "    <tr>\n",
       "      <th>2</th>\n",
       "      <td>1</td>\n",
       "      <td>65</td>\n",
       "      <td>2015</td>\n",
       "      <td>July</td>\n",
       "      <td>27</td>\n",
       "      <td>1</td>\n",
       "      <td>0</td>\n",
       "      <td>4</td>\n",
       "      <td>1</td>\n",
       "      <td>0.0</td>\n",
       "      <td>...</td>\n",
       "      <td>9.0</td>\n",
       "      <td>NaN</td>\n",
       "      <td>0</td>\n",
       "      <td>Transient</td>\n",
       "      <td>68.0</td>\n",
       "      <td>0</td>\n",
       "      <td>1</td>\n",
       "      <td>Canceled</td>\n",
       "      <td>2015-04-30</td>\n",
       "      <td>city hotel</td>\n",
       "    </tr>\n",
       "    <tr>\n",
       "      <th>3</th>\n",
       "      <td>1</td>\n",
       "      <td>92</td>\n",
       "      <td>2015</td>\n",
       "      <td>July</td>\n",
       "      <td>27</td>\n",
       "      <td>1</td>\n",
       "      <td>2</td>\n",
       "      <td>4</td>\n",
       "      <td>2</td>\n",
       "      <td>0.0</td>\n",
       "      <td>...</td>\n",
       "      <td>9.0</td>\n",
       "      <td>NaN</td>\n",
       "      <td>0</td>\n",
       "      <td>Transient</td>\n",
       "      <td>76.5</td>\n",
       "      <td>0</td>\n",
       "      <td>2</td>\n",
       "      <td>Canceled</td>\n",
       "      <td>2015-06-23</td>\n",
       "      <td>city hotel</td>\n",
       "    </tr>\n",
       "    <tr>\n",
       "      <th>4</th>\n",
       "      <td>1</td>\n",
       "      <td>100</td>\n",
       "      <td>2015</td>\n",
       "      <td>July</td>\n",
       "      <td>27</td>\n",
       "      <td>2</td>\n",
       "      <td>0</td>\n",
       "      <td>2</td>\n",
       "      <td>2</td>\n",
       "      <td>0.0</td>\n",
       "      <td>...</td>\n",
       "      <td>9.0</td>\n",
       "      <td>NaN</td>\n",
       "      <td>0</td>\n",
       "      <td>Transient</td>\n",
       "      <td>76.5</td>\n",
       "      <td>0</td>\n",
       "      <td>1</td>\n",
       "      <td>Canceled</td>\n",
       "      <td>2015-04-02</td>\n",
       "      <td>city hotel</td>\n",
       "    </tr>\n",
       "  </tbody>\n",
       "</table>\n",
       "<p>5 rows × 32 columns</p>\n",
       "</div>"
      ],
      "text/plain": [
       "   IsCanceled  LeadTime  ArrivalDateYear ArrivalDateMonth  \\\n",
       "0           0         6             2015             July   \n",
       "1           1        88             2015             July   \n",
       "2           1        65             2015             July   \n",
       "3           1        92             2015             July   \n",
       "4           1       100             2015             July   \n",
       "\n",
       "   ArrivalDateWeekNumber  ArrivalDateDayOfMonth  StaysInWeekendNights  \\\n",
       "0                     27                      1                     0   \n",
       "1                     27                      1                     0   \n",
       "2                     27                      1                     0   \n",
       "3                     27                      1                     2   \n",
       "4                     27                      2                     0   \n",
       "\n",
       "   StaysInWeekNights  Adults  Children  ...  Agent Company DaysInWaitingList  \\\n",
       "0                  2       1       0.0  ...    6.0     NaN                 0   \n",
       "1                  4       2       0.0  ...    9.0     NaN                 0   \n",
       "2                  4       1       0.0  ...    9.0     NaN                 0   \n",
       "3                  4       2       0.0  ...    9.0     NaN                 0   \n",
       "4                  2       2       0.0  ...    9.0     NaN                 0   \n",
       "\n",
       "  CustomerType   ADR  RequiredCarParkingSpaces  TotalOfSpecialRequests  \\\n",
       "0    Transient   0.0                         0                       0   \n",
       "1    Transient  76.5                         0                       1   \n",
       "2    Transient  68.0                         0                       1   \n",
       "3    Transient  76.5                         0                       2   \n",
       "4    Transient  76.5                         0                       1   \n",
       "\n",
       "   ReservationStatus ReservationStatusDate        type  \n",
       "0          Check-Out            2015-07-03  city hotel  \n",
       "1           Canceled            2015-07-01  city hotel  \n",
       "2           Canceled            2015-04-30  city hotel  \n",
       "3           Canceled            2015-06-23  city hotel  \n",
       "4           Canceled            2015-04-02  city hotel  \n",
       "\n",
       "[5 rows x 32 columns]"
      ]
     },
     "execution_count": 12,
     "metadata": {},
     "output_type": "execute_result"
    }
   ],
   "source": [
    "df_hotel.head()"
   ]
  },
  {
   "cell_type": "markdown",
   "id": "47424043",
   "metadata": {},
   "source": [
    "### Missing Values\n",
    "\n",
    "As you may have noticed, the `Company` column contain **NULL**/**NaN** value, so we might as well check the number of missing value from each columns."
   ]
  },
  {
   "cell_type": "code",
   "execution_count": 13,
   "id": "2a3c8627",
   "metadata": {},
   "outputs": [
    {
     "data": {
      "text/plain": [
       "Company                        82137\n",
       "Agent                          12193\n",
       "Country                          452\n",
       "Children                           4\n",
       "IsCanceled                         0\n",
       "AssignedRoomType                   0\n",
       "BookingChanges                     0\n",
       "DepositType                        0\n",
       "DaysInWaitingList                  0\n",
       "PreviousBookingsNotCanceled        0\n",
       "CustomerType                       0\n",
       "ADR                                0\n",
       "RequiredCarParkingSpaces           0\n",
       "TotalOfSpecialRequests             0\n",
       "ReservationStatus                  0\n",
       "ReservationStatusDate              0\n",
       "ReservedRoomType                   0\n",
       "PreviousCancellations              0\n",
       "LeadTime                           0\n",
       "IsRepeatedGuest                    0\n",
       "DistributionChannel                0\n",
       "MarketSegment                      0\n",
       "Meal                               0\n",
       "Babies                             0\n",
       "Adults                             0\n",
       "StaysInWeekNights                  0\n",
       "StaysInWeekendNights               0\n",
       "ArrivalDateDayOfMonth              0\n",
       "ArrivalDateWeekNumber              0\n",
       "ArrivalDateMonth                   0\n",
       "ArrivalDateYear                    0\n",
       "type                               0\n",
       "dtype: int64"
      ]
     },
     "execution_count": 13,
     "metadata": {},
     "output_type": "execute_result"
    }
   ],
   "source": [
    "df_hotel.isnull().sum(axis = 0).sort_values(ascending = False)"
   ]
  },
  {
   "cell_type": "markdown",
   "id": "c81f89bf",
   "metadata": {},
   "source": [
    "We will start with the smalles number of missing values from the `Children` column. Let's check the data that contain missing value in `Children`."
   ]
  },
  {
   "cell_type": "code",
   "execution_count": 14,
   "id": "ac0e7fd7",
   "metadata": {},
   "outputs": [
    {
     "data": {
      "text/html": [
       "<div>\n",
       "<style scoped>\n",
       "    .dataframe tbody tr th:only-of-type {\n",
       "        vertical-align: middle;\n",
       "    }\n",
       "\n",
       "    .dataframe tbody tr th {\n",
       "        vertical-align: top;\n",
       "    }\n",
       "\n",
       "    .dataframe thead th {\n",
       "        text-align: right;\n",
       "    }\n",
       "</style>\n",
       "<table border=\"1\" class=\"dataframe\">\n",
       "  <thead>\n",
       "    <tr style=\"text-align: right;\">\n",
       "      <th></th>\n",
       "      <th>IsCanceled</th>\n",
       "      <th>LeadTime</th>\n",
       "      <th>ArrivalDateYear</th>\n",
       "      <th>ArrivalDateMonth</th>\n",
       "      <th>ArrivalDateWeekNumber</th>\n",
       "      <th>ArrivalDateDayOfMonth</th>\n",
       "      <th>StaysInWeekendNights</th>\n",
       "      <th>StaysInWeekNights</th>\n",
       "      <th>Adults</th>\n",
       "      <th>Children</th>\n",
       "      <th>...</th>\n",
       "      <th>Agent</th>\n",
       "      <th>Company</th>\n",
       "      <th>DaysInWaitingList</th>\n",
       "      <th>CustomerType</th>\n",
       "      <th>ADR</th>\n",
       "      <th>RequiredCarParkingSpaces</th>\n",
       "      <th>TotalOfSpecialRequests</th>\n",
       "      <th>ReservationStatus</th>\n",
       "      <th>ReservationStatusDate</th>\n",
       "      <th>type</th>\n",
       "    </tr>\n",
       "  </thead>\n",
       "  <tbody>\n",
       "    <tr>\n",
       "      <th>540</th>\n",
       "      <td>1</td>\n",
       "      <td>2</td>\n",
       "      <td>2015</td>\n",
       "      <td>August</td>\n",
       "      <td>32</td>\n",
       "      <td>3</td>\n",
       "      <td>1</td>\n",
       "      <td>0</td>\n",
       "      <td>2</td>\n",
       "      <td>NaN</td>\n",
       "      <td>...</td>\n",
       "      <td>NaN</td>\n",
       "      <td>NaN</td>\n",
       "      <td>0</td>\n",
       "      <td>Transient-Party</td>\n",
       "      <td>12.0</td>\n",
       "      <td>0</td>\n",
       "      <td>1</td>\n",
       "      <td>Canceled</td>\n",
       "      <td>2015-08-01</td>\n",
       "      <td>city hotel</td>\n",
       "    </tr>\n",
       "    <tr>\n",
       "      <th>607</th>\n",
       "      <td>1</td>\n",
       "      <td>1</td>\n",
       "      <td>2015</td>\n",
       "      <td>August</td>\n",
       "      <td>32</td>\n",
       "      <td>5</td>\n",
       "      <td>0</td>\n",
       "      <td>2</td>\n",
       "      <td>2</td>\n",
       "      <td>NaN</td>\n",
       "      <td>...</td>\n",
       "      <td>14.0</td>\n",
       "      <td>NaN</td>\n",
       "      <td>0</td>\n",
       "      <td>Transient-Party</td>\n",
       "      <td>12.0</td>\n",
       "      <td>0</td>\n",
       "      <td>1</td>\n",
       "      <td>Canceled</td>\n",
       "      <td>2015-08-04</td>\n",
       "      <td>city hotel</td>\n",
       "    </tr>\n",
       "    <tr>\n",
       "      <th>619</th>\n",
       "      <td>1</td>\n",
       "      <td>1</td>\n",
       "      <td>2015</td>\n",
       "      <td>August</td>\n",
       "      <td>32</td>\n",
       "      <td>5</td>\n",
       "      <td>0</td>\n",
       "      <td>2</td>\n",
       "      <td>3</td>\n",
       "      <td>NaN</td>\n",
       "      <td>...</td>\n",
       "      <td>NaN</td>\n",
       "      <td>NaN</td>\n",
       "      <td>0</td>\n",
       "      <td>Transient-Party</td>\n",
       "      <td>18.0</td>\n",
       "      <td>0</td>\n",
       "      <td>2</td>\n",
       "      <td>Canceled</td>\n",
       "      <td>2015-08-04</td>\n",
       "      <td>city hotel</td>\n",
       "    </tr>\n",
       "    <tr>\n",
       "      <th>1100</th>\n",
       "      <td>1</td>\n",
       "      <td>8</td>\n",
       "      <td>2015</td>\n",
       "      <td>August</td>\n",
       "      <td>33</td>\n",
       "      <td>13</td>\n",
       "      <td>2</td>\n",
       "      <td>5</td>\n",
       "      <td>2</td>\n",
       "      <td>NaN</td>\n",
       "      <td>...</td>\n",
       "      <td>9.0</td>\n",
       "      <td>NaN</td>\n",
       "      <td>0</td>\n",
       "      <td>Transient-Party</td>\n",
       "      <td>76.5</td>\n",
       "      <td>0</td>\n",
       "      <td>1</td>\n",
       "      <td>Canceled</td>\n",
       "      <td>2015-08-09</td>\n",
       "      <td>city hotel</td>\n",
       "    </tr>\n",
       "  </tbody>\n",
       "</table>\n",
       "<p>4 rows × 32 columns</p>\n",
       "</div>"
      ],
      "text/plain": [
       "      IsCanceled  LeadTime  ArrivalDateYear ArrivalDateMonth  \\\n",
       "540            1         2             2015           August   \n",
       "607            1         1             2015           August   \n",
       "619            1         1             2015           August   \n",
       "1100           1         8             2015           August   \n",
       "\n",
       "      ArrivalDateWeekNumber  ArrivalDateDayOfMonth  StaysInWeekendNights  \\\n",
       "540                      32                      3                     1   \n",
       "607                      32                      5                     0   \n",
       "619                      32                      5                     0   \n",
       "1100                     33                     13                     2   \n",
       "\n",
       "      StaysInWeekNights  Adults  Children  ...  Agent Company  \\\n",
       "540                   0       2       NaN  ...    NaN     NaN   \n",
       "607                   2       2       NaN  ...   14.0     NaN   \n",
       "619                   2       3       NaN  ...    NaN     NaN   \n",
       "1100                  5       2       NaN  ...    9.0     NaN   \n",
       "\n",
       "     DaysInWaitingList     CustomerType   ADR  RequiredCarParkingSpaces  \\\n",
       "540                  0  Transient-Party  12.0                         0   \n",
       "607                  0  Transient-Party  12.0                         0   \n",
       "619                  0  Transient-Party  18.0                         0   \n",
       "1100                 0  Transient-Party  76.5                         0   \n",
       "\n",
       "      TotalOfSpecialRequests  ReservationStatus ReservationStatusDate  \\\n",
       "540                        1           Canceled            2015-08-01   \n",
       "607                        1           Canceled            2015-08-04   \n",
       "619                        2           Canceled            2015-08-04   \n",
       "1100                       1           Canceled            2015-08-09   \n",
       "\n",
       "            type  \n",
       "540   city hotel  \n",
       "607   city hotel  \n",
       "619   city hotel  \n",
       "1100  city hotel  \n",
       "\n",
       "[4 rows x 32 columns]"
      ]
     },
     "execution_count": 14,
     "metadata": {},
     "output_type": "execute_result"
    }
   ],
   "source": [
    "df_hotel[ df_hotel['Children'].isnull()]"
   ]
  },
  {
   "cell_type": "markdown",
   "id": "36855714",
   "metadata": {},
   "source": [
    "Since we don't know the reasong behing missing value in number of children, we will fill the missing value with 0 to indicate that there is no children for the booking."
   ]
  },
  {
   "cell_type": "code",
   "execution_count": 15,
   "id": "bb6e263d",
   "metadata": {},
   "outputs": [],
   "source": [
    "df_hotel.fillna(value = {'Children':0}, inplace = True)"
   ]
  },
  {
   "cell_type": "markdown",
   "id": "5cbfac95",
   "metadata": {},
   "source": [
    "We will continue by processing the missing value in `Country`. Since we don't know the reasoning behind the missing value, there are two alternatives that we can do:\n",
    "\n",
    "- assume that the missing value is from domestic booking (Portugal)\n",
    "- remove data with missing value from Country\n",
    "\n",
    "We will take the second approach since there is only small amount of data with missing `Country` compared to the total data, so they will not have much effect toward the end model."
   ]
  },
  {
   "cell_type": "code",
   "execution_count": 16,
   "id": "075ec84a",
   "metadata": {},
   "outputs": [
    {
     "name": "stdout",
     "output_type": "stream",
     "text": [
      "Number of remaining data: 86,944\n"
     ]
    }
   ],
   "source": [
    "df_hotel = df_hotel[ df_hotel['Country'].isnull() == False]\n",
    "\n",
    "# Check remaining data\n",
    "print(\"Number of remaining data: {:,}\".format(df_hotel.shape[0]))"
   ]
  },
  {
   "cell_type": "markdown",
   "id": "de0bcab1",
   "metadata": {},
   "source": [
    "Now we will determine if we need to be concerned with `Company` and `Agent`. `Agent` indicate the ID of the travel agency that made the booking. So we will start by counting the number of missing value on `Agent` and `Company` by looking at each market segment."
   ]
  },
  {
   "cell_type": "code",
   "execution_count": 17,
   "id": "6198b74d",
   "metadata": {},
   "outputs": [
    {
     "data": {
      "text/plain": [
       "MarketSegment\n",
       "Direct           5465\n",
       "Corporate        3515\n",
       "Groups           1599\n",
       "Complementary     599\n",
       "Online TA         327\n",
       "Aviation          203\n",
       "Offline TA/TO     158\n",
       "Undefined           2\n",
       "dtype: int64"
      ]
     },
     "execution_count": 17,
     "metadata": {},
     "output_type": "execute_result"
    }
   ],
   "source": [
    "df_hotel[ df_hotel['Agent'].isnull()].value_counts('MarketSegment')"
   ]
  },
  {
   "cell_type": "code",
   "execution_count": 18,
   "id": "f80e9661",
   "metadata": {},
   "outputs": [
    {
     "data": {
      "text/plain": [
       "MarketSegment\n",
       "Online TA        51466\n",
       "Offline TA/TO    13784\n",
       "Direct           11466\n",
       "Groups            4111\n",
       "Corporate          588\n",
       "Complementary      411\n",
       "Aviation            24\n",
       "Undefined            2\n",
       "dtype: int64"
      ]
     },
     "execution_count": 18,
     "metadata": {},
     "output_type": "execute_result"
    }
   ],
   "source": [
    "df_hotel[ df_hotel['Company'].isnull()].value_counts('MarketSegment')"
   ]
  },
  {
   "cell_type": "markdown",
   "id": "7d726bde",
   "metadata": {},
   "source": [
    "As you may have seen, the number of missing value mostly come for `Agent` is come from *Direct* and *Corporate* segment that indicate these segment directly made the booking and does not require travel agency. Therefore, a missing value in `Agent` just means that there is no agent involved. However, for some cases there are Online TA or Offline TA/TO that has missing value in `Agent`. The same thing also happen for `Company`, the missing value indicate that there is no company or entity involved in the booking process.\n",
    "\n",
    "So, do we need to care about this missing value? Is there any possibility for us to use these columns to predict the booking cancellation? Let's check the number of unique entity from each column."
   ]
  },
  {
   "cell_type": "code",
   "execution_count": 19,
   "id": "8b870d71",
   "metadata": {},
   "outputs": [
    {
     "name": "stdout",
     "output_type": "stream",
     "text": [
      "Number of unique travel agent: 332\n",
      "Number of unique company: 349\n"
     ]
    }
   ],
   "source": [
    "print(\"Number of unique travel agent: {:,}\".format(len(df_hotel.value_counts('Agent'))))\n",
    "print(\"Number of unique company: {:,}\".format(len(df_hotel.value_counts('Company'))))"
   ]
  },
  {
   "cell_type": "markdown",
   "id": "6bc0a6bc",
   "metadata": {},
   "source": [
    "There are many categories of `Agent` and `Company`. We will explore these columns further later on `Exploratory Data Analysis`.\n",
    "\n",
    "Finally, we will check the data type of each column."
   ]
  },
  {
   "cell_type": "code",
   "execution_count": 20,
   "id": "3873fd64",
   "metadata": {},
   "outputs": [
    {
     "data": {
      "text/plain": [
       "IsCanceled                       int64\n",
       "LeadTime                         int64\n",
       "ArrivalDateYear                  int64\n",
       "ArrivalDateMonth                object\n",
       "ArrivalDateWeekNumber            int64\n",
       "ArrivalDateDayOfMonth            int64\n",
       "StaysInWeekendNights             int64\n",
       "StaysInWeekNights                int64\n",
       "Adults                           int64\n",
       "Children                       float64\n",
       "Babies                           int64\n",
       "Meal                            object\n",
       "Country                         object\n",
       "MarketSegment                   object\n",
       "DistributionChannel             object\n",
       "IsRepeatedGuest                  int64\n",
       "PreviousCancellations            int64\n",
       "PreviousBookingsNotCanceled      int64\n",
       "ReservedRoomType                object\n",
       "AssignedRoomType                object\n",
       "BookingChanges                   int64\n",
       "DepositType                     object\n",
       "Agent                          float64\n",
       "Company                        float64\n",
       "DaysInWaitingList                int64\n",
       "CustomerType                    object\n",
       "ADR                            float64\n",
       "RequiredCarParkingSpaces         int64\n",
       "TotalOfSpecialRequests           int64\n",
       "ReservationStatus               object\n",
       "ReservationStatusDate           object\n",
       "type                            object\n",
       "dtype: object"
      ]
     },
     "execution_count": 20,
     "metadata": {},
     "output_type": "execute_result"
    }
   ],
   "source": [
    "df_hotel.dtypes"
   ]
  },
  {
   "cell_type": "markdown",
   "id": "ef34ad33",
   "metadata": {},
   "source": [
    "`Agent` and `Company` should be a string or categorical object, so we will transform them later. The rest of the column has the proper data type."
   ]
  },
  {
   "cell_type": "markdown",
   "id": "37fad076",
   "metadata": {},
   "source": [
    "We will also create a column named `ArrivalDate` and transform the column and `ReservationStatusDate` to datetime data type. From there, we will create the day of week from the arrival date and reservation status date."
   ]
  },
  {
   "cell_type": "code",
   "execution_count": 21,
   "id": "f743412d",
   "metadata": {},
   "outputs": [
    {
     "data": {
      "text/html": [
       "<div>\n",
       "<style scoped>\n",
       "    .dataframe tbody tr th:only-of-type {\n",
       "        vertical-align: middle;\n",
       "    }\n",
       "\n",
       "    .dataframe tbody tr th {\n",
       "        vertical-align: top;\n",
       "    }\n",
       "\n",
       "    .dataframe thead th {\n",
       "        text-align: right;\n",
       "    }\n",
       "</style>\n",
       "<table border=\"1\" class=\"dataframe\">\n",
       "  <thead>\n",
       "    <tr style=\"text-align: right;\">\n",
       "      <th></th>\n",
       "      <th>IsCanceled</th>\n",
       "      <th>LeadTime</th>\n",
       "      <th>ArrivalDateYear</th>\n",
       "      <th>ArrivalDateMonth</th>\n",
       "      <th>ArrivalDateWeekNumber</th>\n",
       "      <th>ArrivalDateDayOfMonth</th>\n",
       "      <th>StaysInWeekendNights</th>\n",
       "      <th>StaysInWeekNights</th>\n",
       "      <th>Adults</th>\n",
       "      <th>Children</th>\n",
       "      <th>...</th>\n",
       "      <th>ADR</th>\n",
       "      <th>RequiredCarParkingSpaces</th>\n",
       "      <th>TotalOfSpecialRequests</th>\n",
       "      <th>ReservationStatus</th>\n",
       "      <th>ReservationStatusDate</th>\n",
       "      <th>type</th>\n",
       "      <th>ArrivalDate</th>\n",
       "      <th>ArrivalDay</th>\n",
       "      <th>ReservationStatusDay</th>\n",
       "      <th>BookingDate</th>\n",
       "    </tr>\n",
       "  </thead>\n",
       "  <tbody>\n",
       "    <tr>\n",
       "      <th>0</th>\n",
       "      <td>0</td>\n",
       "      <td>6</td>\n",
       "      <td>2015</td>\n",
       "      <td>July</td>\n",
       "      <td>27</td>\n",
       "      <td>1</td>\n",
       "      <td>0</td>\n",
       "      <td>2</td>\n",
       "      <td>1</td>\n",
       "      <td>0.0</td>\n",
       "      <td>...</td>\n",
       "      <td>0.0</td>\n",
       "      <td>0</td>\n",
       "      <td>0</td>\n",
       "      <td>Check-Out</td>\n",
       "      <td>2015-07-03</td>\n",
       "      <td>city hotel</td>\n",
       "      <td>2015-07-01</td>\n",
       "      <td>Wednesday</td>\n",
       "      <td>Friday</td>\n",
       "      <td>2015-06-25</td>\n",
       "    </tr>\n",
       "    <tr>\n",
       "      <th>1</th>\n",
       "      <td>1</td>\n",
       "      <td>88</td>\n",
       "      <td>2015</td>\n",
       "      <td>July</td>\n",
       "      <td>27</td>\n",
       "      <td>1</td>\n",
       "      <td>0</td>\n",
       "      <td>4</td>\n",
       "      <td>2</td>\n",
       "      <td>0.0</td>\n",
       "      <td>...</td>\n",
       "      <td>76.5</td>\n",
       "      <td>0</td>\n",
       "      <td>1</td>\n",
       "      <td>Canceled</td>\n",
       "      <td>2015-07-01</td>\n",
       "      <td>city hotel</td>\n",
       "      <td>2015-07-01</td>\n",
       "      <td>Wednesday</td>\n",
       "      <td>Wednesday</td>\n",
       "      <td>2015-04-04</td>\n",
       "    </tr>\n",
       "    <tr>\n",
       "      <th>2</th>\n",
       "      <td>1</td>\n",
       "      <td>65</td>\n",
       "      <td>2015</td>\n",
       "      <td>July</td>\n",
       "      <td>27</td>\n",
       "      <td>1</td>\n",
       "      <td>0</td>\n",
       "      <td>4</td>\n",
       "      <td>1</td>\n",
       "      <td>0.0</td>\n",
       "      <td>...</td>\n",
       "      <td>68.0</td>\n",
       "      <td>0</td>\n",
       "      <td>1</td>\n",
       "      <td>Canceled</td>\n",
       "      <td>2015-04-30</td>\n",
       "      <td>city hotel</td>\n",
       "      <td>2015-07-01</td>\n",
       "      <td>Wednesday</td>\n",
       "      <td>Thursday</td>\n",
       "      <td>2015-04-27</td>\n",
       "    </tr>\n",
       "    <tr>\n",
       "      <th>3</th>\n",
       "      <td>1</td>\n",
       "      <td>92</td>\n",
       "      <td>2015</td>\n",
       "      <td>July</td>\n",
       "      <td>27</td>\n",
       "      <td>1</td>\n",
       "      <td>2</td>\n",
       "      <td>4</td>\n",
       "      <td>2</td>\n",
       "      <td>0.0</td>\n",
       "      <td>...</td>\n",
       "      <td>76.5</td>\n",
       "      <td>0</td>\n",
       "      <td>2</td>\n",
       "      <td>Canceled</td>\n",
       "      <td>2015-06-23</td>\n",
       "      <td>city hotel</td>\n",
       "      <td>2015-07-01</td>\n",
       "      <td>Wednesday</td>\n",
       "      <td>Tuesday</td>\n",
       "      <td>2015-03-31</td>\n",
       "    </tr>\n",
       "    <tr>\n",
       "      <th>4</th>\n",
       "      <td>1</td>\n",
       "      <td>100</td>\n",
       "      <td>2015</td>\n",
       "      <td>July</td>\n",
       "      <td>27</td>\n",
       "      <td>2</td>\n",
       "      <td>0</td>\n",
       "      <td>2</td>\n",
       "      <td>2</td>\n",
       "      <td>0.0</td>\n",
       "      <td>...</td>\n",
       "      <td>76.5</td>\n",
       "      <td>0</td>\n",
       "      <td>1</td>\n",
       "      <td>Canceled</td>\n",
       "      <td>2015-04-02</td>\n",
       "      <td>city hotel</td>\n",
       "      <td>2015-07-02</td>\n",
       "      <td>Thursday</td>\n",
       "      <td>Thursday</td>\n",
       "      <td>2015-03-24</td>\n",
       "    </tr>\n",
       "  </tbody>\n",
       "</table>\n",
       "<p>5 rows × 36 columns</p>\n",
       "</div>"
      ],
      "text/plain": [
       "   IsCanceled  LeadTime  ArrivalDateYear ArrivalDateMonth  \\\n",
       "0           0         6             2015             July   \n",
       "1           1        88             2015             July   \n",
       "2           1        65             2015             July   \n",
       "3           1        92             2015             July   \n",
       "4           1       100             2015             July   \n",
       "\n",
       "   ArrivalDateWeekNumber  ArrivalDateDayOfMonth  StaysInWeekendNights  \\\n",
       "0                     27                      1                     0   \n",
       "1                     27                      1                     0   \n",
       "2                     27                      1                     0   \n",
       "3                     27                      1                     2   \n",
       "4                     27                      2                     0   \n",
       "\n",
       "   StaysInWeekNights  Adults  Children  ...   ADR RequiredCarParkingSpaces  \\\n",
       "0                  2       1       0.0  ...   0.0                        0   \n",
       "1                  4       2       0.0  ...  76.5                        0   \n",
       "2                  4       1       0.0  ...  68.0                        0   \n",
       "3                  4       2       0.0  ...  76.5                        0   \n",
       "4                  2       2       0.0  ...  76.5                        0   \n",
       "\n",
       "  TotalOfSpecialRequests ReservationStatus ReservationStatusDate        type  \\\n",
       "0                      0         Check-Out            2015-07-03  city hotel   \n",
       "1                      1          Canceled            2015-07-01  city hotel   \n",
       "2                      1          Canceled            2015-04-30  city hotel   \n",
       "3                      2          Canceled            2015-06-23  city hotel   \n",
       "4                      1          Canceled            2015-04-02  city hotel   \n",
       "\n",
       "   ArrivalDate  ArrivalDay ReservationStatusDay BookingDate  \n",
       "0   2015-07-01   Wednesday               Friday  2015-06-25  \n",
       "1   2015-07-01   Wednesday            Wednesday  2015-04-04  \n",
       "2   2015-07-01   Wednesday             Thursday  2015-04-27  \n",
       "3   2015-07-01   Wednesday              Tuesday  2015-03-31  \n",
       "4   2015-07-02    Thursday             Thursday  2015-03-24  \n",
       "\n",
       "[5 rows x 36 columns]"
      ]
     },
     "execution_count": 21,
     "metadata": {},
     "output_type": "execute_result"
    }
   ],
   "source": [
    "df_hotel['ArrivalDate'] = list(map(lambda x, y, z: str(x) + '-' + str(y) + '-' + str(z), df_hotel['ArrivalDateYear'], df_hotel['ArrivalDateMonth'], df_hotel['ArrivalDateDayOfMonth']))\n",
    "df_hotel['ArrivalDate'] = pd.to_datetime(df_hotel['ArrivalDate'])\n",
    "df_hotel['ArrivalDay'] = df_hotel['ArrivalDate'].dt.day_name()\n",
    "\n",
    "df_hotel['ReservationStatusDate'] = pd.to_datetime(df_hotel['ReservationStatusDate'])\n",
    "df_hotel['ReservationStatusDay'] = df_hotel['ReservationStatusDate'].dt.day_name()\n",
    "\n",
    "df_hotel['BookingDate'] = list(map(lambda x,y: x - pd.Timedelta(days= y), df_hotel['ArrivalDate'].dt.date, df_hotel['LeadTime']))\n",
    "\n",
    "df_hotel.head()"
   ]
  },
  {
   "cell_type": "markdown",
   "id": "9aa35f1f",
   "metadata": {},
   "source": [
    "## Exploratory Data Analysis"
   ]
  },
  {
   "cell_type": "markdown",
   "id": "bb88178a",
   "metadata": {},
   "source": [
    "### Potential Loss\n",
    "\n",
    "Let's explore how much is the potential loss of revenue generated as a result of booking cancellation."
   ]
  },
  {
   "cell_type": "code",
   "execution_count": 22,
   "id": "690ae064",
   "metadata": {},
   "outputs": [
    {
     "data": {
      "text/plain": [
       "IsCanceled  ReservationStatus\n",
       "0           Check-Out            0.724064\n",
       "1           Canceled             0.264320\n",
       "            No-Show              0.011617\n",
       "dtype: float64"
      ]
     },
     "execution_count": 22,
     "metadata": {},
     "output_type": "execute_result"
    }
   ],
   "source": [
    "df_hotel.value_counts(['IsCanceled', 'ReservationStatus'], normalize = True)"
   ]
  },
  {
   "cell_type": "markdown",
   "id": "cb741137",
   "metadata": {},
   "source": [
    "Around 27% of all transactions is canceled. "
   ]
  },
  {
   "cell_type": "markdown",
   "id": "f41dcc09",
   "metadata": {},
   "source": [
    "### Cancellation and Hotel Type\n",
    "\n",
    "Let's check if there is any indication that different hotel type will have different cancellation rate."
   ]
  },
  {
   "cell_type": "code",
   "execution_count": 23,
   "id": "1c564f60",
   "metadata": {},
   "outputs": [
    {
     "data": {
      "text/html": [
       "<div>\n",
       "<style scoped>\n",
       "    .dataframe tbody tr th:only-of-type {\n",
       "        vertical-align: middle;\n",
       "    }\n",
       "\n",
       "    .dataframe tbody tr th {\n",
       "        vertical-align: top;\n",
       "    }\n",
       "\n",
       "    .dataframe thead tr th {\n",
       "        text-align: left;\n",
       "    }\n",
       "\n",
       "    .dataframe thead tr:last-of-type th {\n",
       "        text-align: right;\n",
       "    }\n",
       "</style>\n",
       "<table border=\"1\" class=\"dataframe\">\n",
       "  <thead>\n",
       "    <tr>\n",
       "      <th></th>\n",
       "      <th colspan=\"2\" halign=\"left\">freq</th>\n",
       "    </tr>\n",
       "    <tr>\n",
       "      <th>type</th>\n",
       "      <th>city hotel</th>\n",
       "      <th>resort hotel</th>\n",
       "    </tr>\n",
       "    <tr>\n",
       "      <th>IsCanceled</th>\n",
       "      <th></th>\n",
       "      <th></th>\n",
       "    </tr>\n",
       "  </thead>\n",
       "  <tbody>\n",
       "    <tr>\n",
       "      <th>0</th>\n",
       "      <td>69.965557</td>\n",
       "      <td>76.296164</td>\n",
       "    </tr>\n",
       "    <tr>\n",
       "      <th>1</th>\n",
       "      <td>30.034443</td>\n",
       "      <td>23.703836</td>\n",
       "    </tr>\n",
       "  </tbody>\n",
       "</table>\n",
       "</div>"
      ],
      "text/plain": [
       "                 freq             \n",
       "type       city hotel resort hotel\n",
       "IsCanceled                        \n",
       "0           69.965557    76.296164\n",
       "1           30.034443    23.703836"
      ]
     },
     "execution_count": 23,
     "metadata": {},
     "output_type": "execute_result"
    }
   ],
   "source": [
    "df_viz = df_hotel.groupby(['ArrivalDate', 'type', 'IsCanceled']).count().rename(columns = {'LeadTime':'freq'})[['freq']].copy().reset_index()\n",
    "\n",
    "df_sum = df_viz.groupby(['IsCanceled', 'type']).sum().unstack()\n",
    "\n",
    "city_col = df_sum.loc[:, pd.IndexSlice[ :, 'city hotel']]\n",
    "resort_col = df_sum.loc[:, pd.IndexSlice[ :, 'resort hotel']]\n",
    "\n",
    "df_sum.loc[:, pd.IndexSlice[ :, 'city hotel']] = city_col/city_col.sum()*100\n",
    "df_sum.loc[:, pd.IndexSlice[ :, 'resort hotel']] = resort_col/resort_col.sum()*100\n",
    "\n",
    "df_sum"
   ]
  },
  {
   "cell_type": "markdown",
   "id": "2d06326e",
   "metadata": {},
   "source": [
    "City hotel has a higher cancellation rate compared to resort hotel, with city hotel have 30% cancellation rate while resort hotel have 23.7% cancellation rate. Perhaps this is caused by the purpose of the stay. Resort hotel is mainly for people who want to go for a vacation and often planned in advance, while city hotel perhaps is mainly for business travel and tend to be more unpredictable because meeting cancellation or any other reasons.\n",
    "\n",
    "To check this hyphotesis, let's explore the lead time between reservation date and the arrival date for each hotel."
   ]
  },
  {
   "cell_type": "code",
   "execution_count": 24,
   "id": "06d05aad",
   "metadata": {},
   "outputs": [
    {
     "data": {
      "text/plain": [
       "<AxesSubplot:xlabel='type', ylabel='LeadTime'>"
      ]
     },
     "execution_count": 24,
     "metadata": {},
     "output_type": "execute_result"
    },
    {
     "data": {
      "image/png": "[encoded data removed]",
      "text/plain": [
       "<Figure size 432x288 with 1 Axes>"
      ]
     },
     "metadata": {
      "needs_background": "light"
     },
     "output_type": "display_data"
    }
   ],
   "source": [
    "sns.boxplot(x = 'type', y = 'LeadTime', data = df_hotel)"
   ]
  },
  {
   "cell_type": "markdown",
   "id": "f2529b0a",
   "metadata": {},
   "source": [
    "Based on the boxplot, there is no apparent difference in lead time between city hotel and resort hotel. So my previous hyphotesis is definitely wrong. Now we will check the distribution of the lead time between people who have cancelled the booking and the one who sucessfuly arrive."
   ]
  },
  {
   "cell_type": "code",
   "execution_count": 25,
   "id": "2141f938",
   "metadata": {},
   "outputs": [
    {
     "data": {
      "text/plain": [
       "<AxesSubplot:xlabel='IsCanceled', ylabel='LeadTime'>"
      ]
     },
     "execution_count": 25,
     "metadata": {},
     "output_type": "execute_result"
    },
    {
     "data": {
      "image/png": "[encoded data removed]",
      "text/plain": [
       "<Figure size 432x288 with 1 Axes>"
      ]
     },
     "metadata": {
      "needs_background": "light"
     },
     "output_type": "display_data"
    }
   ],
   "source": [
    "sns.boxplot(x = 'IsCanceled', y = 'LeadTime', hue = 'type', data = df_hotel)"
   ]
  },
  {
   "cell_type": "markdown",
   "id": "4a8df01d",
   "metadata": {},
   "source": [
    "Based on the boxplot, we can see that the overall distribution of lead time is slightly higher for cancelled booking, indicating that people who cancelled the booking tend to have ordered longer than people who do not cancel."
   ]
  },
  {
   "cell_type": "markdown",
   "id": "1141e426",
   "metadata": {},
   "source": [
    "### Temporal Pattern\n",
    "\n",
    "Let's check the time series pattern from the arrival date. Is there any temporal influence toward cancellation?"
   ]
  },
  {
   "cell_type": "code",
   "execution_count": 26,
   "id": "c65da661",
   "metadata": {},
   "outputs": [
    {
     "data": {
      "text/plain": [
       "Text(0, 0.5, 'Number of Booking')"
      ]
     },
     "execution_count": 26,
     "metadata": {},
     "output_type": "execute_result"
    },
    {
     "data": {
      "image/png": "[encoded data removed]",
      "text/plain": [
       "<Figure size 432x288 with 1 Axes>"
      ]
     },
     "metadata": {
      "needs_background": "light"
     },
     "output_type": "display_data"
    }
   ],
   "source": [
    "df_viz = df_hotel.groupby(['ArrivalDate', 'type', 'IsCanceled']).count().rename(columns = {'LeadTime':'freq'})[['freq']].reset_index()\n",
    "\n",
    "df_cancel = df_viz[df_viz['IsCanceled'] == 1].copy()\n",
    "\n",
    "sns.lineplot(x = 'ArrivalDate', y = 'freq', hue = 'type', data = df_cancel)\n",
    "plt.title('Number of Canceled Booking')\n",
    "plt.xlabel('Arrival Date')\n",
    "plt.xticks(rotation = 45)\n",
    "plt.ylabel('Number of Booking')"
   ]
  },
  {
   "cell_type": "markdown",
   "id": "95997654",
   "metadata": {},
   "source": [
    "There are some variability in the number of months and days (or you may call it seasonality) in the number of canceled booking. Let's check the average cancellation on monthly and daily basis."
   ]
  },
  {
   "cell_type": "code",
   "execution_count": 27,
   "id": "124d2796",
   "metadata": {},
   "outputs": [
    {
     "data": {
      "text/html": [
       "<div>\n",
       "<style scoped>\n",
       "    .dataframe tbody tr th:only-of-type {\n",
       "        vertical-align: middle;\n",
       "    }\n",
       "\n",
       "    .dataframe tbody tr th {\n",
       "        vertical-align: top;\n",
       "    }\n",
       "\n",
       "    .dataframe thead th {\n",
       "        text-align: right;\n",
       "    }\n",
       "</style>\n",
       "<table border=\"1\" class=\"dataframe\">\n",
       "  <thead>\n",
       "    <tr style=\"text-align: right;\">\n",
       "      <th></th>\n",
       "      <th>ArrivalDate</th>\n",
       "      <th>type</th>\n",
       "      <th>IsCanceled</th>\n",
       "      <th>freq</th>\n",
       "      <th>month</th>\n",
       "      <th>day</th>\n",
       "    </tr>\n",
       "  </thead>\n",
       "  <tbody>\n",
       "    <tr>\n",
       "      <th>1</th>\n",
       "      <td>2015-07-01</td>\n",
       "      <td>city hotel</td>\n",
       "      <td>1</td>\n",
       "      <td>6</td>\n",
       "      <td>July</td>\n",
       "      <td>Wednesday</td>\n",
       "    </tr>\n",
       "    <tr>\n",
       "      <th>3</th>\n",
       "      <td>2015-07-01</td>\n",
       "      <td>resort hotel</td>\n",
       "      <td>1</td>\n",
       "      <td>5</td>\n",
       "      <td>July</td>\n",
       "      <td>Wednesday</td>\n",
       "    </tr>\n",
       "    <tr>\n",
       "      <th>5</th>\n",
       "      <td>2015-07-02</td>\n",
       "      <td>city hotel</td>\n",
       "      <td>1</td>\n",
       "      <td>10</td>\n",
       "      <td>July</td>\n",
       "      <td>Thursday</td>\n",
       "    </tr>\n",
       "    <tr>\n",
       "      <th>7</th>\n",
       "      <td>2015-07-02</td>\n",
       "      <td>resort hotel</td>\n",
       "      <td>1</td>\n",
       "      <td>9</td>\n",
       "      <td>July</td>\n",
       "      <td>Thursday</td>\n",
       "    </tr>\n",
       "    <tr>\n",
       "      <th>9</th>\n",
       "      <td>2015-07-03</td>\n",
       "      <td>city hotel</td>\n",
       "      <td>1</td>\n",
       "      <td>6</td>\n",
       "      <td>July</td>\n",
       "      <td>Friday</td>\n",
       "    </tr>\n",
       "  </tbody>\n",
       "</table>\n",
       "</div>"
      ],
      "text/plain": [
       "  ArrivalDate          type  IsCanceled  freq month        day\n",
       "1  2015-07-01    city hotel           1     6  July  Wednesday\n",
       "3  2015-07-01  resort hotel           1     5  July  Wednesday\n",
       "5  2015-07-02    city hotel           1    10  July   Thursday\n",
       "7  2015-07-02  resort hotel           1     9  July   Thursday\n",
       "9  2015-07-03    city hotel           1     6  July     Friday"
      ]
     },
     "execution_count": 27,
     "metadata": {},
     "output_type": "execute_result"
    }
   ],
   "source": [
    "months = [\"January\", \"February\", \"March\", \"April\", \"May\", \"June\",\"July\", \"August\", \"September\", \"October\", \"November\", \"December\"]\n",
    "dow = ['Sunday', 'Monday', 'Tuesday', 'Wednesday', 'Thursday', 'Friday', 'Saturday']\n",
    "\n",
    "df_cancel['month'] = df_cancel['ArrivalDate'].dt.month_name()\n",
    "df_cancel['month'] = pd.Categorical(df_cancel['month'], categories=months, ordered=True)\n",
    "\n",
    "df_cancel['day'] = df_cancel['ArrivalDate'].dt.day_name()\n",
    "df_cancel['day'] = pd.Categorical(df_cancel['day'], categories= dow, ordered=True)\n",
    "\n",
    "df_cancel.head()"
   ]
  },
  {
   "cell_type": "code",
   "execution_count": 28,
   "id": "40bf645d",
   "metadata": {},
   "outputs": [
    {
     "data": {
      "text/plain": [
       "Text(0.5, 1.0, 'Average Cancellation by Month')"
      ]
     },
     "execution_count": 28,
     "metadata": {},
     "output_type": "execute_result"
    },
    {
     "data": {
      "image/png": "[encoded data removed]",
      "text/plain": [
       "<Figure size 432x288 with 1 Axes>"
      ]
     },
     "metadata": {
      "needs_background": "light"
     },
     "output_type": "display_data"
    }
   ],
   "source": [
    "cancel_month = df_cancel.groupby('month').mean().sort_values('month')\n",
    "\n",
    "sns.lineplot(x = 'month', y = 'freq', data = cancel_month)\n",
    "sns.scatterplot(x = 'month', y = 'freq', data = cancel_month)\n",
    "plt.xticks(rotation = 45)\n",
    "plt.ylabel('Average Cancellation')\n",
    "plt.xlabel('')\n",
    "plt.title('Average Cancellation by Month')"
   ]
  },
  {
   "cell_type": "markdown",
   "id": "7c44f540",
   "metadata": {},
   "source": [
    "We can see that the average number of cancellation fluctuate between months, with the highest cancellation is reached on April and May. \n",
    "\n",
    "We will continue by inspecting the average cancellation by day of week."
   ]
  },
  {
   "cell_type": "code",
   "execution_count": 29,
   "id": "db27f9ae",
   "metadata": {},
   "outputs": [
    {
     "data": {
      "text/plain": [
       "Text(0.5, 1.0, 'Average Cancellation by Day of Week')"
      ]
     },
     "execution_count": 29,
     "metadata": {},
     "output_type": "execute_result"
    },
    {
     "data": {
      "image/png": "[encoded data removed]",
      "text/plain": [
       "<Figure size 432x288 with 1 Axes>"
      ]
     },
     "metadata": {
      "needs_background": "light"
     },
     "output_type": "display_data"
    }
   ],
   "source": [
    "cancel_day = df_cancel.groupby('day').mean()\n",
    "\n",
    "sns.lineplot(x = 'day', y = 'freq', data = cancel_day)\n",
    "sns.scatterplot(x = 'day', y = 'freq', data = cancel_day)\n",
    "plt.xticks(rotation = 45)\n",
    "plt.ylabel('Average Cancellation')\n",
    "plt.xlabel('')\n",
    "plt.title('Average Cancellation by Day of Week')"
   ]
  },
  {
   "cell_type": "markdown",
   "id": "17a3dbe7",
   "metadata": {},
   "source": [
    "We can see that the average number of cancellation fluctuate between days, with the highest cancellation is reached on Friday and reach the lowest on Tuesday. "
   ]
  },
  {
   "cell_type": "markdown",
   "id": "604615d0",
   "metadata": {},
   "source": [
    "### Market Segment\n",
    "\n",
    "We will continue checking if particular market segment have higher tendency to cancel order."
   ]
  },
  {
   "cell_type": "code",
   "execution_count": 30,
   "id": "2ca17656",
   "metadata": {},
   "outputs": [
    {
     "data": {
      "text/plain": [
       "Text(0.5, 1.0, 'Cancellation Rate by Market Segment')"
      ]
     },
     "execution_count": 30,
     "metadata": {},
     "output_type": "execute_result"
    },
    {
     "data": {
      "image/png": "[encoded data removed]",
      "text/plain": [
       "<Figure size 432x288 with 1 Axes>"
      ]
     },
     "metadata": {
      "needs_background": "light"
     },
     "output_type": "display_data"
    }
   ],
   "source": [
    "df_cancel = df_hotel.copy().groupby(['MarketSegment', 'IsCanceled']).count().sort_values('ADR', ascending = False)\n",
    "df_cancel = df_cancel.rename(columns = {'ADR':'freq'})[['freq']].reset_index('IsCanceled')\n",
    "\n",
    "total_segment = pd.DataFrame(df_hotel.value_counts('MarketSegment')).rename(columns = {0:'total'})\n",
    "\n",
    "df_cancel = df_cancel[ df_cancel['IsCanceled'] == 1].join(total_segment).reset_index()\n",
    "df_cancel['percent'] = df_cancel['freq']/df_cancel['total']\n",
    "df_cancel.sort_values('percent', ascending = False, inplace = True)\n",
    "\n",
    "sns.barplot(y = 'MarketSegment', x = 'percent', data = df_cancel)\n",
    "plt.xlabel('Cancellation Rate')\n",
    "plt.ylabel('Market Segment')\n",
    "plt.title('Cancellation Rate by Market Segment')"
   ]
  },
  {
   "cell_type": "markdown",
   "id": "03ae3d77",
   "metadata": {},
   "source": [
    "Undefined market segment has 100% cancellation rate because there is only 2 observations with those segment and all of them is cancelled booking. Therefore, the highest cancellation rate is from the **Online Travel Agency**, followed by **Groups** and **Aviation**."
   ]
  },
  {
   "cell_type": "code",
   "execution_count": 31,
   "id": "ff50a794",
   "metadata": {},
   "outputs": [
    {
     "data": {
      "text/html": [
       "<div>\n",
       "<style scoped>\n",
       "    .dataframe tbody tr th:only-of-type {\n",
       "        vertical-align: middle;\n",
       "    }\n",
       "\n",
       "    .dataframe tbody tr th {\n",
       "        vertical-align: top;\n",
       "    }\n",
       "\n",
       "    .dataframe thead th {\n",
       "        text-align: right;\n",
       "    }\n",
       "</style>\n",
       "<table border=\"1\" class=\"dataframe\">\n",
       "  <thead>\n",
       "    <tr style=\"text-align: right;\">\n",
       "      <th></th>\n",
       "      <th>MarketSegment</th>\n",
       "      <th>IsCanceled</th>\n",
       "      <th>freq</th>\n",
       "      <th>total</th>\n",
       "      <th>percent</th>\n",
       "    </tr>\n",
       "  </thead>\n",
       "  <tbody>\n",
       "    <tr>\n",
       "      <th>7</th>\n",
       "      <td>Undefined</td>\n",
       "      <td>1</td>\n",
       "      <td>2</td>\n",
       "      <td>2</td>\n",
       "      <td>1.000000</td>\n",
       "    </tr>\n",
       "    <tr>\n",
       "      <th>0</th>\n",
       "      <td>Online TA</td>\n",
       "      <td>1</td>\n",
       "      <td>18245</td>\n",
       "      <td>51544</td>\n",
       "      <td>0.353969</td>\n",
       "    </tr>\n",
       "    <tr>\n",
       "      <th>3</th>\n",
       "      <td>Groups</td>\n",
       "      <td>1</td>\n",
       "      <td>1335</td>\n",
       "      <td>4937</td>\n",
       "      <td>0.270407</td>\n",
       "    </tr>\n",
       "    <tr>\n",
       "      <th>6</th>\n",
       "      <td>Aviation</td>\n",
       "      <td>1</td>\n",
       "      <td>45</td>\n",
       "      <td>227</td>\n",
       "      <td>0.198238</td>\n",
       "    </tr>\n",
       "    <tr>\n",
       "      <th>1</th>\n",
       "      <td>Offline TA/TO</td>\n",
       "      <td>1</td>\n",
       "      <td>2057</td>\n",
       "      <td>13857</td>\n",
       "      <td>0.148445</td>\n",
       "    </tr>\n",
       "    <tr>\n",
       "      <th>2</th>\n",
       "      <td>Direct</td>\n",
       "      <td>1</td>\n",
       "      <td>1724</td>\n",
       "      <td>11648</td>\n",
       "      <td>0.148008</td>\n",
       "    </tr>\n",
       "    <tr>\n",
       "      <th>4</th>\n",
       "      <td>Corporate</td>\n",
       "      <td>1</td>\n",
       "      <td>497</td>\n",
       "      <td>4031</td>\n",
       "      <td>0.123294</td>\n",
       "    </tr>\n",
       "    <tr>\n",
       "      <th>5</th>\n",
       "      <td>Complementary</td>\n",
       "      <td>1</td>\n",
       "      <td>86</td>\n",
       "      <td>698</td>\n",
       "      <td>0.123209</td>\n",
       "    </tr>\n",
       "  </tbody>\n",
       "</table>\n",
       "</div>"
      ],
      "text/plain": [
       "   MarketSegment  IsCanceled   freq  total   percent\n",
       "7      Undefined           1      2      2  1.000000\n",
       "0      Online TA           1  18245  51544  0.353969\n",
       "3         Groups           1   1335   4937  0.270407\n",
       "6       Aviation           1     45    227  0.198238\n",
       "1  Offline TA/TO           1   2057  13857  0.148445\n",
       "2         Direct           1   1724  11648  0.148008\n",
       "4      Corporate           1    497   4031  0.123294\n",
       "5  Complementary           1     86    698  0.123209"
      ]
     },
     "execution_count": 31,
     "metadata": {},
     "output_type": "execute_result"
    }
   ],
   "source": [
    "df_cancel"
   ]
  },
  {
   "cell_type": "markdown",
   "id": "bd8619ab",
   "metadata": {},
   "source": [
    "### Deposit\n",
    "\n",
    "We are also curious if different deposit type will have diferent cancellation rate. My hypothesis is booking with refundable option would have higher cancellation rate.\n",
    "\n",
    "Let's check the data."
   ]
  },
  {
   "cell_type": "code",
   "execution_count": 32,
   "id": "596d1d0c",
   "metadata": {},
   "outputs": [
    {
     "data": {
      "text/plain": [
       "Text(0.5, 1.0, 'Cancellation Rate by Deposit Type')"
      ]
     },
     "execution_count": 32,
     "metadata": {},
     "output_type": "execute_result"
    },
    {
     "data": {
      "image/png": "[encoded data removed]",
      "text/plain": [
       "<Figure size 432x288 with 1 Axes>"
      ]
     },
     "metadata": {
      "needs_background": "light"
     },
     "output_type": "display_data"
    }
   ],
   "source": [
    "df_deposit = df_hotel.groupby(['IsCanceled', 'DepositType']).count()[['LeadTime']].\\\n",
    "             rename(columns = {'LeadTime': 'freq'}).reset_index('IsCanceled')\n",
    "\n",
    "total_deposit = pd.DataFrame(df_hotel.value_counts('DepositType')).rename(columns = {0:'total'})\n",
    "\n",
    "df_deposit = df_deposit[ df_deposit['IsCanceled'] == 1].join(total_deposit).reset_index()\n",
    "df_deposit['percent'] = df_deposit['freq']/df_deposit['total']\n",
    "df_deposit.sort_values('percent', ascending = False, inplace = True)\n",
    "\n",
    "sns.barplot(x = 'percent', y = 'DepositType', data = df_deposit)\n",
    "plt.xlabel('Cancellation Rate')\n",
    "plt.ylabel('Deposit Type')\n",
    "plt.title('Cancellation Rate by Deposit Type')"
   ]
  },
  {
   "cell_type": "markdown",
   "id": "ad93a1b5",
   "metadata": {},
   "source": [
    "Interesting, booking with non-refundable option has higher cancellation rate compared to no deposit or refundable deposit."
   ]
  },
  {
   "cell_type": "markdown",
   "id": "d47b6831",
   "metadata": {},
   "source": [
    "# Data Preprocessing\n",
    "\n",
    "We will process the data further before building the model. We will start by extracting name of the month and day of the week from the arrivale date and the booking date."
   ]
  },
  {
   "cell_type": "code",
   "execution_count": 33,
   "id": "929c7b96",
   "metadata": {},
   "outputs": [],
   "source": [
    "df_hotel['arrive_month'] = df_hotel['ArrivalDate'].dt.month_name()\n",
    "df_hotel['arrive_day'] = df_hotel['ArrivalDate'].dt.day_name()\n",
    "\n",
    "df_hotel['book_month'] = pd.to_datetime(df_hotel['BookingDate']).dt.month_name()\n",
    "df_hotel['book_day'] = pd.to_datetime(df_hotel['BookingDate']).dt.day_name()"
   ]
  },
  {
   "cell_type": "markdown",
   "id": "aa2ca4c4",
   "metadata": {},
   "source": [
    "### Top Agent\n",
    "\n",
    "We will see if we can get top travel agency that is helping the hotel with booking new customers. Remember that the travel agency only give us the ID due to confidentiality."
   ]
  },
  {
   "cell_type": "code",
   "execution_count": 34,
   "id": "62883c8a",
   "metadata": {},
   "outputs": [
    {
     "data": {
      "text/plain": [
       "9.0      28758\n",
       "240.0    12977\n",
       "NaN      11868\n",
       "14.0      3348\n",
       "7.0       3300\n",
       "250.0     2764\n",
       "241.0     1641\n",
       "28.0      1502\n",
       "8.0       1383\n",
       "1.0       1232\n",
       "Name: Agent, dtype: int64"
      ]
     },
     "execution_count": 34,
     "metadata": {},
     "output_type": "execute_result"
    }
   ],
   "source": [
    "agent_book = df_hotel['Agent'].value_counts(dropna = False)\n",
    "\n",
    "agent_book.iloc[ 0:10 ]"
   ]
  },
  {
   "cell_type": "markdown",
   "id": "17fce814",
   "metadata": {},
   "source": [
    "Let's check how many travel agency with more than 0.1% (86 observations) of the total number of the data."
   ]
  },
  {
   "cell_type": "code",
   "execution_count": 35,
   "id": "e572c008-5b7f-4f7a-9a4f-669ef409fed6",
   "metadata": {},
   "outputs": [
    {
     "data": {
      "text/plain": [
       "86.944"
      ]
     },
     "execution_count": 35,
     "metadata": {},
     "output_type": "execute_result"
    }
   ],
   "source": [
    "min_treshold = df_hotel.shape[0]*0.001\n",
    "min_treshold"
   ]
  },
  {
   "cell_type": "code",
   "execution_count": 36,
   "id": "d7449d68",
   "metadata": {},
   "outputs": [
    {
     "name": "stdout",
     "output_type": "stream",
     "text": [
      "Number of Travel Agency: 333\n",
      "Number of Observations: 86,944\n",
      "Travel Agency with low booking number: 61\n"
     ]
    }
   ],
   "source": [
    "print(\"Number of Travel Agency: %.f\" %len(agent_book))\n",
    "print(\"Number of Observations: {:,}\".format(df_hotel.shape[0]))\n",
    "\n",
    "print(\"Travel Agency with low booking number: %.f\" %len(agent_book[ agent_book > min_treshold ]))"
   ]
  },
  {
   "cell_type": "markdown",
   "id": "4a2e8160",
   "metadata": {},
   "source": [
    "From 332 travel agency (excluding missing value), only 60 travel agency that has high number of booking/transaction. We will group all travel agency with less than 0.1% (around 86) booking number as `other` and fill missing value as `no agent`."
   ]
  },
  {
   "cell_type": "code",
   "execution_count": 37,
   "id": "94b8a10b",
   "metadata": {},
   "outputs": [
    {
     "data": {
      "text/plain": [
       "9        28758\n",
       "240      12977\n",
       "no       11868\n",
       "other     4286\n",
       "14        3348\n",
       "         ...  \n",
       "146        108\n",
       "30         106\n",
       "330         98\n",
       "94          97\n",
       "89          90\n",
       "Name: Agent, Length: 62, dtype: int64"
      ]
     },
     "execution_count": 37,
     "metadata": {},
     "output_type": "execute_result"
    }
   ],
   "source": [
    "df_hotel.fillna(value = {'Agent': -999, 'Company': -999}, inplace = True)\n",
    "\n",
    "selected_agent = list(agent_book[ agent_book > min_treshold ].index)\n",
    "selected_agent.append(-999)\n",
    "\n",
    "df_hotel.loc[ df_hotel['Agent'].isin(selected_agent) == False, 'Agent'] = -1\n",
    "\n",
    "df_hotel['Agent'] = df_hotel['Agent'].astype('int').astype('str')\n",
    "\n",
    "df_hotel.loc[df_hotel['Agent'] == '-1', 'Agent'] = 'other'\n",
    "df_hotel.loc[df_hotel['Agent'] == '-999', 'Agent'] = 'no'\n",
    "\n",
    "df_hotel['Agent'].value_counts()"
   ]
  },
  {
   "cell_type": "markdown",
   "id": "c08a4371",
   "metadata": {},
   "source": [
    "### Top Company\n",
    "\n",
    "Let's check how many companies with more than 1% of the total number of the data."
   ]
  },
  {
   "cell_type": "code",
   "execution_count": 38,
   "id": "9cce202e",
   "metadata": {},
   "outputs": [
    {
     "name": "stdout",
     "output_type": "stream",
     "text": [
      "Company with high booking number: [-999.0, 40.0, 223.0, 45.0, 153.0, 219.0, 154.0, 174.0, 281.0, 233.0]\n"
     ]
    }
   ],
   "source": [
    "company_book = df_hotel['Company'].value_counts(dropna = False)\n",
    "\n",
    "selected_company = list(company_book[ company_book > min_treshold ].index)\n",
    "\n",
    "print(\"Company with high booking number: \" + str(selected_company))"
   ]
  },
  {
   "cell_type": "markdown",
   "id": "be7fdfa1",
   "metadata": {},
   "source": [
    "We will convert the other Company as `other`."
   ]
  },
  {
   "cell_type": "code",
   "execution_count": 39,
   "id": "062c3efc-b1b6-41aa-bc66-d8711c7aca90",
   "metadata": {},
   "outputs": [
    {
     "data": {
      "text/plain": [
       "no       81852\n",
       "other     2704\n",
       "40         851\n",
       "223        503\n",
       "45         238\n",
       "153        206\n",
       "219        131\n",
       "154        124\n",
       "174        121\n",
       "281        119\n",
       "233         95\n",
       "Name: Company, dtype: int64"
      ]
     },
     "execution_count": 39,
     "metadata": {},
     "output_type": "execute_result"
    }
   ],
   "source": [
    "df_hotel.loc[ df_hotel['Company'].isin(selected_company) == False, 'Company'] = -1\n",
    "\n",
    "df_hotel['Company'] = df_hotel['Company'].astype('int').astype('str')\n",
    "\n",
    "df_hotel.loc[df_hotel['Company'] == '-1', 'Company'] = 'other'\n",
    "df_hotel.loc[df_hotel['Company'] == '-999', 'Company'] = 'no'\n",
    "\n",
    "df_hotel['Company'].value_counts()"
   ]
  },
  {
   "cell_type": "markdown",
   "id": "5d584731",
   "metadata": {},
   "source": [
    "### Top Countries\n",
    "\n",
    "Let's check how many countries with more than 0.1% of the total number of the data."
   ]
  },
  {
   "cell_type": "code",
   "execution_count": 40,
   "id": "84460162",
   "metadata": {},
   "outputs": [
    {
     "name": "stdout",
     "output_type": "stream",
     "text": [
      "Country with high booking number: ['PRT', 'GBR', 'FRA', 'ESP', 'DEU', 'ITA', 'IRL', 'BEL', 'BRA', 'NLD', 'USA', 'CHE', 'CN', 'AUT', 'SWE', 'CHN', 'POL', 'RUS', 'NOR', 'ROU', 'FIN', 'ISR', 'DNK', 'AUS', 'AGO', 'LUX', 'MAR', 'TUR', 'ARG', 'HUN', 'JPN', 'IND', 'CZE', 'KOR', 'GRC', 'HRV']\n"
     ]
    }
   ],
   "source": [
    "country_book = df_hotel['Country'].value_counts(dropna = False)\n",
    "\n",
    "selected_country = list(country_book[ country_book > min_treshold ].index)\n",
    "\n",
    "print(\"Country with high booking number: \" + str(selected_country))"
   ]
  },
  {
   "cell_type": "markdown",
   "id": "5512ec17",
   "metadata": {},
   "source": [
    "We will replace countries other than mentioned above as `Other`."
   ]
  },
  {
   "cell_type": "code",
   "execution_count": 41,
   "id": "4b863f3c",
   "metadata": {},
   "outputs": [
    {
     "name": "stdout",
     "output_type": "stream",
     "text": [
      "Number of Remaining Countries: 36\n"
     ]
    }
   ],
   "source": [
    "df_hotel.loc[ df_hotel['Country'].isin(selected_country) == False, 'Country'] = 'Other'\n",
    "\n",
    "print(\"Number of Remaining Countries: {:,}\".format(len(df_hotel['Country'].value_counts())-1))"
   ]
  },
  {
   "cell_type": "markdown",
   "id": "2c02ad2a",
   "metadata": {},
   "source": [
    "### Drop Columns\n",
    "\n",
    "We will continue by removing uncessary column."
   ]
  },
  {
   "cell_type": "code",
   "execution_count": 42,
   "id": "65f8b584",
   "metadata": {},
   "outputs": [
    {
     "data": {
      "text/html": [
       "<div>\n",
       "<style scoped>\n",
       "    .dataframe tbody tr th:only-of-type {\n",
       "        vertical-align: middle;\n",
       "    }\n",
       "\n",
       "    .dataframe tbody tr th {\n",
       "        vertical-align: top;\n",
       "    }\n",
       "\n",
       "    .dataframe thead th {\n",
       "        text-align: right;\n",
       "    }\n",
       "</style>\n",
       "<table border=\"1\" class=\"dataframe\">\n",
       "  <thead>\n",
       "    <tr style=\"text-align: right;\">\n",
       "      <th></th>\n",
       "      <th>IsCanceled</th>\n",
       "      <th>LeadTime</th>\n",
       "      <th>ArrivalDateWeekNumber</th>\n",
       "      <th>ArrivalDateDayOfMonth</th>\n",
       "      <th>StaysInWeekendNights</th>\n",
       "      <th>StaysInWeekNights</th>\n",
       "      <th>Adults</th>\n",
       "      <th>Children</th>\n",
       "      <th>Babies</th>\n",
       "      <th>Meal</th>\n",
       "      <th>...</th>\n",
       "      <th>CustomerType</th>\n",
       "      <th>ADR</th>\n",
       "      <th>RequiredCarParkingSpaces</th>\n",
       "      <th>TotalOfSpecialRequests</th>\n",
       "      <th>type</th>\n",
       "      <th>ArrivalDay</th>\n",
       "      <th>arrive_month</th>\n",
       "      <th>arrive_day</th>\n",
       "      <th>book_month</th>\n",
       "      <th>book_day</th>\n",
       "    </tr>\n",
       "  </thead>\n",
       "  <tbody>\n",
       "    <tr>\n",
       "      <th>0</th>\n",
       "      <td>0</td>\n",
       "      <td>6</td>\n",
       "      <td>27</td>\n",
       "      <td>1</td>\n",
       "      <td>0</td>\n",
       "      <td>2</td>\n",
       "      <td>1</td>\n",
       "      <td>0.0</td>\n",
       "      <td>0</td>\n",
       "      <td>HB</td>\n",
       "      <td>...</td>\n",
       "      <td>Transient</td>\n",
       "      <td>0.0</td>\n",
       "      <td>0</td>\n",
       "      <td>0</td>\n",
       "      <td>city hotel</td>\n",
       "      <td>Wednesday</td>\n",
       "      <td>July</td>\n",
       "      <td>Wednesday</td>\n",
       "      <td>June</td>\n",
       "      <td>Thursday</td>\n",
       "    </tr>\n",
       "    <tr>\n",
       "      <th>1</th>\n",
       "      <td>1</td>\n",
       "      <td>88</td>\n",
       "      <td>27</td>\n",
       "      <td>1</td>\n",
       "      <td>0</td>\n",
       "      <td>4</td>\n",
       "      <td>2</td>\n",
       "      <td>0.0</td>\n",
       "      <td>0</td>\n",
       "      <td>BB</td>\n",
       "      <td>...</td>\n",
       "      <td>Transient</td>\n",
       "      <td>76.5</td>\n",
       "      <td>0</td>\n",
       "      <td>1</td>\n",
       "      <td>city hotel</td>\n",
       "      <td>Wednesday</td>\n",
       "      <td>July</td>\n",
       "      <td>Wednesday</td>\n",
       "      <td>April</td>\n",
       "      <td>Saturday</td>\n",
       "    </tr>\n",
       "    <tr>\n",
       "      <th>2</th>\n",
       "      <td>1</td>\n",
       "      <td>65</td>\n",
       "      <td>27</td>\n",
       "      <td>1</td>\n",
       "      <td>0</td>\n",
       "      <td>4</td>\n",
       "      <td>1</td>\n",
       "      <td>0.0</td>\n",
       "      <td>0</td>\n",
       "      <td>BB</td>\n",
       "      <td>...</td>\n",
       "      <td>Transient</td>\n",
       "      <td>68.0</td>\n",
       "      <td>0</td>\n",
       "      <td>1</td>\n",
       "      <td>city hotel</td>\n",
       "      <td>Wednesday</td>\n",
       "      <td>July</td>\n",
       "      <td>Wednesday</td>\n",
       "      <td>April</td>\n",
       "      <td>Monday</td>\n",
       "    </tr>\n",
       "    <tr>\n",
       "      <th>3</th>\n",
       "      <td>1</td>\n",
       "      <td>92</td>\n",
       "      <td>27</td>\n",
       "      <td>1</td>\n",
       "      <td>2</td>\n",
       "      <td>4</td>\n",
       "      <td>2</td>\n",
       "      <td>0.0</td>\n",
       "      <td>0</td>\n",
       "      <td>BB</td>\n",
       "      <td>...</td>\n",
       "      <td>Transient</td>\n",
       "      <td>76.5</td>\n",
       "      <td>0</td>\n",
       "      <td>2</td>\n",
       "      <td>city hotel</td>\n",
       "      <td>Wednesday</td>\n",
       "      <td>July</td>\n",
       "      <td>Wednesday</td>\n",
       "      <td>March</td>\n",
       "      <td>Tuesday</td>\n",
       "    </tr>\n",
       "    <tr>\n",
       "      <th>4</th>\n",
       "      <td>1</td>\n",
       "      <td>100</td>\n",
       "      <td>27</td>\n",
       "      <td>2</td>\n",
       "      <td>0</td>\n",
       "      <td>2</td>\n",
       "      <td>2</td>\n",
       "      <td>0.0</td>\n",
       "      <td>0</td>\n",
       "      <td>BB</td>\n",
       "      <td>...</td>\n",
       "      <td>Transient</td>\n",
       "      <td>76.5</td>\n",
       "      <td>0</td>\n",
       "      <td>1</td>\n",
       "      <td>city hotel</td>\n",
       "      <td>Thursday</td>\n",
       "      <td>July</td>\n",
       "      <td>Thursday</td>\n",
       "      <td>March</td>\n",
       "      <td>Tuesday</td>\n",
       "    </tr>\n",
       "  </tbody>\n",
       "</table>\n",
       "<p>5 rows × 33 columns</p>\n",
       "</div>"
      ],
      "text/plain": [
       "   IsCanceled  LeadTime  ArrivalDateWeekNumber  ArrivalDateDayOfMonth  \\\n",
       "0           0         6                     27                      1   \n",
       "1           1        88                     27                      1   \n",
       "2           1        65                     27                      1   \n",
       "3           1        92                     27                      1   \n",
       "4           1       100                     27                      2   \n",
       "\n",
       "   StaysInWeekendNights  StaysInWeekNights  Adults  Children  Babies  \\\n",
       "0                     0                  2       1       0.0       0   \n",
       "1                     0                  4       2       0.0       0   \n",
       "2                     0                  4       1       0.0       0   \n",
       "3                     2                  4       2       0.0       0   \n",
       "4                     0                  2       2       0.0       0   \n",
       "\n",
       "        Meal  ... CustomerType   ADR RequiredCarParkingSpaces  \\\n",
       "0  HB         ...    Transient   0.0                        0   \n",
       "1  BB         ...    Transient  76.5                        0   \n",
       "2  BB         ...    Transient  68.0                        0   \n",
       "3  BB         ...    Transient  76.5                        0   \n",
       "4  BB         ...    Transient  76.5                        0   \n",
       "\n",
       "   TotalOfSpecialRequests        type  ArrivalDay arrive_month arrive_day  \\\n",
       "0                       0  city hotel   Wednesday         July  Wednesday   \n",
       "1                       1  city hotel   Wednesday         July  Wednesday   \n",
       "2                       1  city hotel   Wednesday         July  Wednesday   \n",
       "3                       2  city hotel   Wednesday         July  Wednesday   \n",
       "4                       1  city hotel    Thursday         July   Thursday   \n",
       "\n",
       "   book_month  book_day  \n",
       "0        June  Thursday  \n",
       "1       April  Saturday  \n",
       "2       April    Monday  \n",
       "3       March   Tuesday  \n",
       "4       March   Tuesday  \n",
       "\n",
       "[5 rows x 33 columns]"
      ]
     },
     "execution_count": 42,
     "metadata": {},
     "output_type": "execute_result"
    }
   ],
   "source": [
    "df_hotel.drop(['ArrivalDateYear', 'ArrivalDateMonth', 'ArrivalDate', 'BookingDate', \n",
    "               'ReservationStatus', 'ReservationStatusDate', 'ReservationStatusDay'],\n",
    "              axis = 1, inplace = True)\n",
    "\n",
    "df_hotel.head()"
   ]
  },
  {
   "cell_type": "markdown",
   "id": "f4174052",
   "metadata": {},
   "source": [
    "## One-Hot Encoding\n",
    "\n",
    "Now we continue preparing data for the machine learning. First, we will transform categorical values into one-hot encoding."
   ]
  },
  {
   "cell_type": "code",
   "execution_count": 43,
   "id": "a1bed240",
   "metadata": {},
   "outputs": [],
   "source": [
    "# Create one hot encoding function\n",
    "\n",
    "def transform_one_hot(x):\n",
    "\n",
    "    # Convert Category into Integer\n",
    "    int_label = LabelEncoder().fit(x).transform(x)\n",
    "    int_label = int_label.reshape(len(x), 1)\n",
    "    \n",
    "    # Convert Label into One Hot Encoding\n",
    "    encode_label = OneHotEncoder().fit(int_label).transform(int_label).toarray()\n",
    "    \n",
    "    encode_name = list(set(x))\n",
    "    encode_name.sort()\n",
    "    col_name = x.name\n",
    "    encode_name = list(map(lambda x: col_name + '_' + x, encode_name))\n",
    "    \n",
    "    pd_encode = pd.DataFrame(encode_label, columns = encode_name)\n",
    "    \n",
    "    return(pd_encode)"
   ]
  },
  {
   "cell_type": "code",
   "execution_count": 44,
   "id": "f52f9adb",
   "metadata": {},
   "outputs": [
    {
     "data": {
      "text/html": [
       "<div>\n",
       "<style scoped>\n",
       "    .dataframe tbody tr th:only-of-type {\n",
       "        vertical-align: middle;\n",
       "    }\n",
       "\n",
       "    .dataframe tbody tr th {\n",
       "        vertical-align: top;\n",
       "    }\n",
       "\n",
       "    .dataframe thead th {\n",
       "        text-align: right;\n",
       "    }\n",
       "</style>\n",
       "<table border=\"1\" class=\"dataframe\">\n",
       "  <thead>\n",
       "    <tr style=\"text-align: right;\">\n",
       "      <th></th>\n",
       "      <th>IsCanceled</th>\n",
       "      <th>LeadTime</th>\n",
       "      <th>ArrivalDateWeekNumber</th>\n",
       "      <th>ArrivalDateDayOfMonth</th>\n",
       "      <th>StaysInWeekendNights</th>\n",
       "      <th>StaysInWeekNights</th>\n",
       "      <th>Adults</th>\n",
       "      <th>Children</th>\n",
       "      <th>Babies</th>\n",
       "      <th>IsRepeatedGuest</th>\n",
       "      <th>...</th>\n",
       "      <th>book_month_November</th>\n",
       "      <th>book_month_October</th>\n",
       "      <th>book_month_September</th>\n",
       "      <th>book_day_Friday</th>\n",
       "      <th>book_day_Monday</th>\n",
       "      <th>book_day_Saturday</th>\n",
       "      <th>book_day_Sunday</th>\n",
       "      <th>book_day_Thursday</th>\n",
       "      <th>book_day_Tuesday</th>\n",
       "      <th>book_day_Wednesday</th>\n",
       "    </tr>\n",
       "  </thead>\n",
       "  <tbody>\n",
       "    <tr>\n",
       "      <th>0</th>\n",
       "      <td>0</td>\n",
       "      <td>6</td>\n",
       "      <td>27</td>\n",
       "      <td>1</td>\n",
       "      <td>0</td>\n",
       "      <td>2</td>\n",
       "      <td>1</td>\n",
       "      <td>0.0</td>\n",
       "      <td>0</td>\n",
       "      <td>0</td>\n",
       "      <td>...</td>\n",
       "      <td>0.0</td>\n",
       "      <td>0.0</td>\n",
       "      <td>0.0</td>\n",
       "      <td>0.0</td>\n",
       "      <td>0.0</td>\n",
       "      <td>0.0</td>\n",
       "      <td>0.0</td>\n",
       "      <td>1.0</td>\n",
       "      <td>0.0</td>\n",
       "      <td>0.0</td>\n",
       "    </tr>\n",
       "    <tr>\n",
       "      <th>1</th>\n",
       "      <td>1</td>\n",
       "      <td>88</td>\n",
       "      <td>27</td>\n",
       "      <td>1</td>\n",
       "      <td>0</td>\n",
       "      <td>4</td>\n",
       "      <td>2</td>\n",
       "      <td>0.0</td>\n",
       "      <td>0</td>\n",
       "      <td>0</td>\n",
       "      <td>...</td>\n",
       "      <td>0.0</td>\n",
       "      <td>0.0</td>\n",
       "      <td>0.0</td>\n",
       "      <td>0.0</td>\n",
       "      <td>0.0</td>\n",
       "      <td>1.0</td>\n",
       "      <td>0.0</td>\n",
       "      <td>0.0</td>\n",
       "      <td>0.0</td>\n",
       "      <td>0.0</td>\n",
       "    </tr>\n",
       "    <tr>\n",
       "      <th>2</th>\n",
       "      <td>1</td>\n",
       "      <td>65</td>\n",
       "      <td>27</td>\n",
       "      <td>1</td>\n",
       "      <td>0</td>\n",
       "      <td>4</td>\n",
       "      <td>1</td>\n",
       "      <td>0.0</td>\n",
       "      <td>0</td>\n",
       "      <td>0</td>\n",
       "      <td>...</td>\n",
       "      <td>0.0</td>\n",
       "      <td>0.0</td>\n",
       "      <td>0.0</td>\n",
       "      <td>0.0</td>\n",
       "      <td>1.0</td>\n",
       "      <td>0.0</td>\n",
       "      <td>0.0</td>\n",
       "      <td>0.0</td>\n",
       "      <td>0.0</td>\n",
       "      <td>0.0</td>\n",
       "    </tr>\n",
       "    <tr>\n",
       "      <th>3</th>\n",
       "      <td>1</td>\n",
       "      <td>92</td>\n",
       "      <td>27</td>\n",
       "      <td>1</td>\n",
       "      <td>2</td>\n",
       "      <td>4</td>\n",
       "      <td>2</td>\n",
       "      <td>0.0</td>\n",
       "      <td>0</td>\n",
       "      <td>0</td>\n",
       "      <td>...</td>\n",
       "      <td>0.0</td>\n",
       "      <td>0.0</td>\n",
       "      <td>0.0</td>\n",
       "      <td>0.0</td>\n",
       "      <td>0.0</td>\n",
       "      <td>0.0</td>\n",
       "      <td>0.0</td>\n",
       "      <td>0.0</td>\n",
       "      <td>1.0</td>\n",
       "      <td>0.0</td>\n",
       "    </tr>\n",
       "    <tr>\n",
       "      <th>4</th>\n",
       "      <td>1</td>\n",
       "      <td>100</td>\n",
       "      <td>27</td>\n",
       "      <td>2</td>\n",
       "      <td>0</td>\n",
       "      <td>2</td>\n",
       "      <td>2</td>\n",
       "      <td>0.0</td>\n",
       "      <td>0</td>\n",
       "      <td>0</td>\n",
       "      <td>...</td>\n",
       "      <td>0.0</td>\n",
       "      <td>0.0</td>\n",
       "      <td>0.0</td>\n",
       "      <td>0.0</td>\n",
       "      <td>0.0</td>\n",
       "      <td>0.0</td>\n",
       "      <td>0.0</td>\n",
       "      <td>0.0</td>\n",
       "      <td>1.0</td>\n",
       "      <td>0.0</td>\n",
       "    </tr>\n",
       "  </tbody>\n",
       "</table>\n",
       "<p>5 rows × 221 columns</p>\n",
       "</div>"
      ],
      "text/plain": [
       "   IsCanceled  LeadTime  ArrivalDateWeekNumber  ArrivalDateDayOfMonth  \\\n",
       "0           0         6                     27                      1   \n",
       "1           1        88                     27                      1   \n",
       "2           1        65                     27                      1   \n",
       "3           1        92                     27                      1   \n",
       "4           1       100                     27                      2   \n",
       "\n",
       "   StaysInWeekendNights  StaysInWeekNights  Adults  Children  Babies  \\\n",
       "0                     0                  2       1       0.0       0   \n",
       "1                     0                  4       2       0.0       0   \n",
       "2                     0                  4       1       0.0       0   \n",
       "3                     2                  4       2       0.0       0   \n",
       "4                     0                  2       2       0.0       0   \n",
       "\n",
       "   IsRepeatedGuest  ...  book_month_November  book_month_October  \\\n",
       "0                0  ...                  0.0                 0.0   \n",
       "1                0  ...                  0.0                 0.0   \n",
       "2                0  ...                  0.0                 0.0   \n",
       "3                0  ...                  0.0                 0.0   \n",
       "4                0  ...                  0.0                 0.0   \n",
       "\n",
       "   book_month_September  book_day_Friday  book_day_Monday  book_day_Saturday  \\\n",
       "0                   0.0              0.0              0.0                0.0   \n",
       "1                   0.0              0.0              0.0                1.0   \n",
       "2                   0.0              0.0              1.0                0.0   \n",
       "3                   0.0              0.0              0.0                0.0   \n",
       "4                   0.0              0.0              0.0                0.0   \n",
       "\n",
       "   book_day_Sunday  book_day_Thursday  book_day_Tuesday  book_day_Wednesday  \n",
       "0              0.0                1.0               0.0                 0.0  \n",
       "1              0.0                0.0               0.0                 0.0  \n",
       "2              0.0                0.0               0.0                 0.0  \n",
       "3              0.0                0.0               1.0                 0.0  \n",
       "4              0.0                0.0               1.0                 0.0  \n",
       "\n",
       "[5 rows x 221 columns]"
      ]
     },
     "execution_count": 44,
     "metadata": {},
     "output_type": "execute_result"
    }
   ],
   "source": [
    "# Select name of column\n",
    "string_column = list(df_hotel.select_dtypes('object').columns)\n",
    "\n",
    "df_final = df_hotel.copy().reset_index(drop=True)\n",
    "\n",
    "# Apply one hot encoding\n",
    "for select_col in string_column:\n",
    "    pd_transformed = transform_one_hot(df_hotel[select_col])\n",
    "    df_final = pd.concat([df_final, pd_transformed], axis = 1)\n",
    "\n",
    "# Drop initial categorical variables\n",
    "df_final = df_final.select_dtypes(exclude = 'object')\n",
    "\n",
    "df_final.head()"
   ]
  },
  {
   "cell_type": "markdown",
   "id": "e67be276",
   "metadata": {},
   "source": [
    "## Train Test Split\n",
    "\n",
    "After the data is ready, now we will split the data into training set and testing set, with 20% of the data as the testing set."
   ]
  },
  {
   "cell_type": "code",
   "execution_count": 45,
   "id": "91b8a9e1",
   "metadata": {},
   "outputs": [
    {
     "name": "stdout",
     "output_type": "stream",
     "text": [
      "Number of Data Train: 69,555\n",
      "Number of Data Test: 17,389\n"
     ]
    }
   ],
   "source": [
    "y_data = df_final['IsCanceled']\n",
    "x_data = df_final.drop('IsCanceled', axis = 1)\n",
    "\n",
    "x_train, x_test, y_train, y_test = train_test_split(x_data, y_data, random_state = 100, test_size = 0.2)\n",
    "\n",
    "print(\"Number of Data Train: {:,}\".format(x_train.shape[0]))\n",
    "print(\"Number of Data Test: {:,}\".format(x_test.shape[0]))"
   ]
  },
  {
   "cell_type": "markdown",
   "id": "21512b36-89a5-4b83-a575-3ff7013a1c13",
   "metadata": {},
   "source": [
    "Let's check the class imbalance"
   ]
  },
  {
   "cell_type": "code",
   "execution_count": 46,
   "id": "3b784718-bb64-4eea-98cb-b6a964a457b4",
   "metadata": {},
   "outputs": [
    {
     "data": {
      "text/plain": [
       "IsCanceled\n",
       "0             0.724721\n",
       "1             0.275279\n",
       "dtype: float64"
      ]
     },
     "execution_count": 46,
     "metadata": {},
     "output_type": "execute_result"
    }
   ],
   "source": [
    "pd.DataFrame(y_train).value_counts(normalize = True)"
   ]
  },
  {
   "cell_type": "markdown",
   "id": "d9ee393b-e420-4461-a29b-e1d3eb14ae28",
   "metadata": {},
   "source": [
    "As we can see, the model is imbalances, with small amount of order is cancelled. This will affect the model to predict the negative (0) class more often. To handle this problem, we will create a balanced dataset with downsample by reducing the number of minority class."
   ]
  },
  {
   "cell_type": "code",
   "execution_count": 47,
   "id": "196da3f7-c2fe-48fc-95de-717454e3885f",
   "metadata": {},
   "outputs": [
    {
     "data": {
      "text/plain": [
       "0    0.5\n",
       "1    0.5\n",
       "dtype: float64"
      ]
     },
     "execution_count": 47,
     "metadata": {},
     "output_type": "execute_result"
    }
   ],
   "source": [
    "# Indicies of each class' observations\n",
    "i_class0 = np.where(y_train == 0)[0]\n",
    "i_class1 = np.where(y_train == 1)[0]\n",
    "\n",
    "# Number of observations in each class\n",
    "n_class0 = len(i_class0)\n",
    "n_class1 = len(i_class1)\n",
    "\n",
    "# For every observation in class 0, randomly sample from class 1 with replacement\n",
    "i_class_upsampled = np.random.choice(i_class0, size = n_class1, replace=True)\n",
    "\n",
    "# Join together class 0's upsampled target vector with class 1's target vector\n",
    "y_train_up = np.concatenate((y_train.iloc[i_class1], y_train.iloc[i_class_upsampled]))\n",
    "x_train_up = pd.concat([x_train.iloc[i_class1], x_train.iloc[i_class_upsampled]])\n",
    "\n",
    "# Check class\n",
    "pd.DataFrame(y_train_up).value_counts(normalize = True)"
   ]
  },
  {
   "cell_type": "code",
   "execution_count": 48,
   "id": "0ddcc201-fbde-4b90-a9d9-71311f98c358",
   "metadata": {},
   "outputs": [
    {
     "name": "stdout",
     "output_type": "stream",
     "text": [
      "Number of Training Data: 38,294\n"
     ]
    }
   ],
   "source": [
    "print(\"Number of Training Data: {:,}\".format(len(y_train_up)))"
   ]
  },
  {
   "cell_type": "markdown",
   "id": "77b79ae4",
   "metadata": {},
   "source": [
    "## Decision Tree\n",
    "\n",
    "We will try building a simple model using decision tree. If you are interested in the algorithm behind Decision Tree, you may visit this [simple explanation](https://saedsayad.com/decision_tree.htm)."
   ]
  },
  {
   "cell_type": "markdown",
   "id": "d09928a3",
   "metadata": {},
   "source": [
    "## Model Fitting\n",
    "\n",
    "We will start fitting the data into the model. The implementation of Decision Tree in `sklearn` use Gini Impurity as the splitting criterion."
   ]
  },
  {
   "cell_type": "code",
   "execution_count": 49,
   "id": "b5908c3d",
   "metadata": {},
   "outputs": [],
   "source": [
    "model_tree = DecisionTreeClassifier().fit(x_train, y_train)"
   ]
  },
  {
   "cell_type": "markdown",
   "id": "92281ac9",
   "metadata": {},
   "source": [
    "The benefit of using Decision Tree besides it's fast computation is we can plot the tree generated by the model to interpret which attributes are considered important by the model. "
   ]
  },
  {
   "cell_type": "code",
   "execution_count": 50,
   "id": "babfaf82",
   "metadata": {},
   "outputs": [
    {
     "data": {
      "image/png": "[encoded data removed]",
      "text/plain": [
       "<Figure size 1152x648 with 1 Axes>"
      ]
     },
     "metadata": {
      "needs_background": "light"
     },
     "output_type": "display_data"
    }
   ],
   "source": [
    "from sklearn.tree import plot_tree\n",
    "\n",
    "plt.figure(figsize=(16,9))\n",
    "\n",
    "# Plot the first 3 depth of the tree\n",
    "p_tree = plot_tree(model_tree, max_depth = 3)\n",
    "plt.savefig('decisiontree.png')\n",
    "plt.show()"
   ]
  },
  {
   "cell_type": "markdown",
   "id": "752bfbd6",
   "metadata": {},
   "source": [
    "### Model Evaluation\n",
    "\n",
    "Let's evaluate the model using several evaluation metrics for classification"
   ]
  },
  {
   "cell_type": "code",
   "execution_count": 51,
   "id": "34cf64f4",
   "metadata": {},
   "outputs": [
    {
     "name": "stdout",
     "output_type": "stream",
     "text": [
      "Accuracy: 0.791\n",
      "Recall: 0.623\n",
      "Precision: 0.632\n",
      "F1-Score: 0.627\n"
     ]
    }
   ],
   "source": [
    "pred_tree = model_tree.predict(x_test)\n",
    "\n",
    "print(\"Accuracy: %.3f\" %accuracy_score(pred_tree, y_test))\n",
    "print(\"Recall: %.3f\" %recall_score(pred_tree, y_test))\n",
    "print(\"Precision: %.3f\" %precision_score(pred_tree, y_test))\n",
    "print(\"F1-Score: %.3f\" %f1_score(pred_tree, y_test))"
   ]
  },
  {
   "cell_type": "markdown",
   "id": "6ed076bb",
   "metadata": {},
   "source": [
    "## Random Forest\n",
    "\n",
    "Next, we will fit an ensemble method of Random Forest. Random Forest implement the Bootstrap-Aggregating (Bagging) algorithm to combine multiple weak learner to get better predicitve performance, with low bias (low error in training set) and low variance (low error in testing set). The Random Forest tend to be better than Decision Tree. However, since the model consists of multiple models, the training time is also longer than Decision Tree.\n",
    "\n",
    "### Model Fitting\n",
    "\n",
    "We will start fitting data to Random Forest with 100 separate weak learners."
   ]
  },
  {
   "cell_type": "code",
   "execution_count": 52,
   "id": "ed3f758e",
   "metadata": {},
   "outputs": [],
   "source": [
    "model_rf = RandomForestClassifier(n_estimators = 100).fit(x_train_up, y_train_up)"
   ]
  },
  {
   "cell_type": "markdown",
   "id": "98782449",
   "metadata": {},
   "source": [
    "### Model Evaluation\n",
    "\n",
    "Let's evaluate the model toward the testing dataset."
   ]
  },
  {
   "cell_type": "code",
   "execution_count": 53,
   "id": "2e31332c",
   "metadata": {},
   "outputs": [
    {
     "name": "stdout",
     "output_type": "stream",
     "text": [
      "Accuracy: 0.804\n",
      "Recall: 0.601\n",
      "Precision: 0.876\n",
      "F1-Score: 0.713\n"
     ]
    }
   ],
   "source": [
    "pred_rf = model_rf.predict(x_test)\n",
    "\n",
    "print(\"Accuracy: %.3f\" %accuracy_score(pred_rf, y_test))\n",
    "print(\"Recall: %.3f\" %recall_score(pred_rf, y_test))\n",
    "print(\"Precision: %.3f\" %precision_score(pred_rf, y_test))\n",
    "print(\"F1-Score: %.3f\" %f1_score(pred_rf, y_test))"
   ]
  },
  {
   "cell_type": "markdown",
   "id": "6815d7f7",
   "metadata": {},
   "source": [
    "The model has higher model performance compared to Decision Tree. Let's try adjusting the model hyper-parameter and see if we can achieve higher result."
   ]
  },
  {
   "cell_type": "markdown",
   "id": "a39dc907",
   "metadata": {},
   "source": [
    "### Tuning Model\n",
    "\n",
    "We will try to tune the random forest by tweaking the model hyper-parameter. To tune multiple combination of models at once, we will use grid search combined with K-fold cross validation. The following is our pre-determined hyper-parameter:\n",
    "\n",
    "- n_estimators: Number of weak learner trees in the model\n",
    "- max_features: The number of features to consider when looking for the best split\n",
    "- min_samples_split: The minimum number of samples required to split an internal node\n",
    "- max_depth: The maximum depth of the tree"
   ]
  },
  {
   "cell_type": "code",
   "execution_count": 56,
   "id": "b7c72113",
   "metadata": {},
   "outputs": [],
   "source": [
    "model_forest = RandomForestClassifier()\n",
    "\n",
    "parameters = {\n",
    "    'n_estimators': [100, 500, 1000],\n",
    "    'max_features': [2, 5, 15, 'sqrt', 'log2'],\n",
    "    'min_samples_split' : [1, 2 ,5],\n",
    "    'max_depth': [None, 2, 5, 10]\n",
    "}"
   ]
  },
  {
   "cell_type": "markdown",
   "id": "60dbea79",
   "metadata": {},
   "source": [
    "To evaluate which model has the best parameter, we will use **f1 Score** as the scoring criteria instead of **accuracy** because we want to get model with overall great recall and precision. We will use 10-fold cross-validation and utilize all 4 cores of my CPU for parallel computing to speed up the process.\n",
    "\n",
    "This process will take several hours depending on your processing power. I have also saved the model and can be loaded in the next cells."
   ]
  },
  {
   "cell_type": "raw",
   "id": "762c4a55-8144-426f-a88e-364581afb8b4",
   "metadata": {},
   "source": [
    "# Start Grid Search\n",
    "forestcv = GridSearchCV(model_forest,\n",
    "                        parameters,\n",
    "                        scoring = 'f1',\n",
    "                        cv = 5,\n",
    "                        n_jobs = 4,\n",
    "                        verbose = 4\n",
    "                       )\n",
    "\n",
    "# Fit Data to Model\n",
    "forestcv.fit(x_train_up, y_train_up)"
   ]
  },
  {
   "cell_type": "markdown",
   "id": "407a6aed-123a-442d-90c0-c3183cc51472",
   "metadata": {},
   "source": [
    "You can save the model into a pickle file for later use with the following command."
   ]
  },
  {
   "cell_type": "raw",
   "id": "5db1487d-320e-4dd5-8efc-7cbb3c154b97",
   "metadata": {},
   "source": [
    "# Save Model\n",
    "import pickle\n",
    "\n",
    "pkl_filename = \"output/grid_rf.pkl\"\n",
    "with open(pkl_filename, 'wb') as file:\n",
    "    pickle.dump(forestcv, file)"
   ]
  },
  {
   "cell_type": "markdown",
   "id": "be55f852-243e-40de-b138-40c184112d1a",
   "metadata": {},
   "source": [
    "You can load the previously trained model with pickle as well."
   ]
  },
  {
   "cell_type": "code",
   "execution_count": 54,
   "id": "b06e835d-4b75-4e08-b2e4-9966d3b47336",
   "metadata": {},
   "outputs": [],
   "source": [
    "import pickle\n",
    "\n",
    "with open(\"output/grid_rf.pkl\", 'rb') as file:\n",
    "    forestcv = pickle.load(file)"
   ]
  },
  {
   "cell_type": "markdown",
   "id": "09ba424b",
   "metadata": {},
   "source": [
    "Let's check the best hyper-parameters."
   ]
  },
  {
   "cell_type": "code",
   "execution_count": 55,
   "id": "b98c95a4",
   "metadata": {},
   "outputs": [
    {
     "name": "stdout",
     "output_type": "stream",
     "text": [
      "Best Hyper-Parameters\n"
     ]
    },
    {
     "data": {
      "text/html": [
       "<div>\n",
       "<style scoped>\n",
       "    .dataframe tbody tr th:only-of-type {\n",
       "        vertical-align: middle;\n",
       "    }\n",
       "\n",
       "    .dataframe tbody tr th {\n",
       "        vertical-align: top;\n",
       "    }\n",
       "\n",
       "    .dataframe thead th {\n",
       "        text-align: right;\n",
       "    }\n",
       "</style>\n",
       "<table border=\"1\" class=\"dataframe\">\n",
       "  <thead>\n",
       "    <tr style=\"text-align: right;\">\n",
       "      <th></th>\n",
       "      <th>max_depth</th>\n",
       "      <th>max_features</th>\n",
       "      <th>min_samples_split</th>\n",
       "      <th>n_estimators</th>\n",
       "    </tr>\n",
       "  </thead>\n",
       "  <tbody>\n",
       "    <tr>\n",
       "      <th>0</th>\n",
       "      <td>None</td>\n",
       "      <td>15</td>\n",
       "      <td>2</td>\n",
       "      <td>500</td>\n",
       "    </tr>\n",
       "  </tbody>\n",
       "</table>\n",
       "</div>"
      ],
      "text/plain": [
       "  max_depth  max_features  min_samples_split  n_estimators\n",
       "0      None            15                  2           500"
      ]
     },
     "execution_count": 55,
     "metadata": {},
     "output_type": "execute_result"
    }
   ],
   "source": [
    "print(\"Best Hyper-Parameters\")\n",
    "pd.DataFrame(index = range(1), data = forestcv.best_params_)"
   ]
  },
  {
   "cell_type": "markdown",
   "id": "4bec29d6",
   "metadata": {},
   "source": [
    "Let's evaluate the best model."
   ]
  },
  {
   "cell_type": "code",
   "execution_count": 56,
   "id": "ba659188",
   "metadata": {},
   "outputs": [
    {
     "name": "stdout",
     "output_type": "stream",
     "text": [
      "Accuracy: 0.809\n",
      "Recall: 0.608\n",
      "Precision: 0.880\n",
      "F1-Score: 0.720\n"
     ]
    }
   ],
   "source": [
    "pred_cv = forestcv.predict(x_test)\n",
    "\n",
    "print(\"Accuracy: %.3f\" %accuracy_score(pred_cv, y_test))\n",
    "print(\"Recall: %.3f\" %recall_score(pred_cv, y_test))\n",
    "print(\"Precision: %.3f\" %precision_score(pred_cv, y_test))\n",
    "print(\"F1-Score: %.3f\" %f1_score(pred_cv, y_test))"
   ]
  },
  {
   "cell_type": "markdown",
   "id": "2936d146",
   "metadata": {},
   "source": [
    "### Feature Importance\n",
    "\n",
    "From the best model, we can infer the variable importances based on the average gini decrease by each variable. Higher importances value indicate that the model is more *important* or has higher predictive value."
   ]
  },
  {
   "cell_type": "code",
   "execution_count": 57,
   "id": "f987c517",
   "metadata": {},
   "outputs": [
    {
     "data": {
      "image/png": "[encoded data removed]",
      "text/plain": [
       "<Figure size 432x288 with 1 Axes>"
      ]
     },
     "metadata": {
      "needs_background": "light"
     },
     "output_type": "display_data"
    }
   ],
   "source": [
    "importances = forestcv.best_estimator_.feature_importances_\n",
    "\n",
    "# Sort the feature importance in descending order\n",
    "sorted_indices = np.argsort(importances)[::-1]\n",
    "importances = importances[ sorted_indices ]\n",
    "\n",
    "# Visualization\n",
    "plt.title('Top 12 Important Features')\n",
    "plt.bar(range(12), importances[0:12], align='center')\n",
    "plt.xticks(range(12), x_train.columns[sorted_indices][0:12], rotation= 90)\n",
    "plt.show()"
   ]
  }
 ],
 "metadata": {
  "kernelspec": {
   "display_name": "Python 3",
   "language": "python",
   "name": "python3"
  },
  "language_info": {
   "codemirror_mode": {
    "name": "ipython",
    "version": 3
   },
   "file_extension": ".py",
   "mimetype": "text/x-python",
   "name": "python",
   "nbconvert_exporter": "python",
   "pygments_lexer": "ipython3",
   "version": "3.8.8"
  }
 },
 "nbformat": 4,
 "nbformat_minor": 5
}
